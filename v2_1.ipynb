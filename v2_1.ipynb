{
 "cells": [
  {
   "cell_type": "code",
   "execution_count": 1,
   "id": "8f4aaa47-1676-4d82-b6b1-382ead4c5733",
   "metadata": {},
   "outputs": [
    {
     "name": "stderr",
     "output_type": "stream",
     "text": [
      "/Users/matus/venv/lib/python3.9/site-packages/tqdm/auto.py:22: TqdmWarning: IProgress not found. Please update jupyter and ipywidgets. See https://ipywidgets.readthedocs.io/en/stable/user_install.html\n",
      "  from .autonotebook import tqdm as notebook_tqdm\n"
     ]
    }
   ],
   "source": [
    "import os\n",
    "import random\n",
    "from typing import Callable, Dict, List, Optional, Tuple, Type, Union\n",
    "import numpy as np\n",
    "import matplotlib.pyplot as plt\n",
    "import gym\n",
    "from gym import spaces\n",
    "from gym.wrappers import FlattenObservation\n",
    "from stable_baselines3.common.env_checker import check_env\n",
    "from stable_baselines3 import PPO\n",
    "from stable_baselines3.ppo.policies import MlpPolicy\n",
    "from stable_baselines3.common.evaluation import evaluate_policy\n",
    "from stable_baselines3.common.monitor import Monitor\n",
    "from stable_baselines3.common.results_plotter import load_results, ts2xy\n",
    "from stable_baselines3.common.noise import NormalActionNoise\n",
    "from stable_baselines3.common.callbacks import BaseCallback\n",
    "from stable_baselines3.common import results_plotter\n",
    "from stable_baselines3.common.torch_layers import BaseFeaturesExtractor\n",
    "from stable_baselines3.common.policies import ActorCriticPolicy\n",
    "from stable_baselines3.common.distributions import DictDistribution\n",
    "import json\n",
    "\n",
    "import torch\n",
    "from torch import nn\n",
    "from torch.distributions import Categorical\n",
    "import torch.nn.functional as F\n",
    "\n",
    "MAX_NUM_FUNCTIONS = 2\n",
    "MAX_INPUT = 3\n",
    "#MAX_STEPS = 6\n",
    "\n",
    "\n",
    "\n",
    "# class MyObservationWrapper(gym.ObservationWrapper):\n",
    "#     def __init__(self, env, max_num_functions, max_input):\n",
    "#         super(MyObservationWrapper, self).__init__(env)\n",
    "#         # self.observation_space = spaces.MultiDiscrete(\n",
    "#         #     [2 for _ in range(max_num_functions)] + \\\n",
    "#         #     [MAX_INPUT for _ in range(max_num_functions)] + \\\n",
    "#         #     np.array([max_num_functions, max_input, 3 for _ in range(max_num_functions)]).flatten().tolist()\n",
    "#         # )\n",
    "            \n",
    "#     def reverse_observation(self, observation):\n",
    "#         return {\n",
    "#             \"points\": observation[:7],\n",
    "#             \"features\": observation[7:]\n",
    "#         }\n",
    "    \n",
    "#     def observation(self, observation):\n",
    "#         return np.concatenate((observation[\"points\"], observation[\"features\"]), axis=0)\n",
    "    \n",
    "# class MyActionWrapper(gym.ActionWrapper):\n",
    "#     def __init__(self, env):\n",
    "#         super(MyActionWrapper, self).__init__(env)\n",
    "        \n",
    "#         fn_low = np.full((NUM_FUNCTIONS,), -10.0)\n",
    "#         fn_high = np.full((NUM_FUNCTIONS,), 10.0)\n",
    "        \n",
    "#         inputs_low = np.full((1,), 0.0)\n",
    "#         inputs_high = np.full((1,), MAX_INPUT)\n",
    "        \n",
    "#         self.action_space = spaces.Box(\n",
    "#             low=np.concatenate((fn_low, inputs_low), axis=0), \n",
    "#             high=np.concatenate((fn_high, inputs_high), axis=0),\n",
    "#             dtype=np.float32\n",
    "#         )\n",
    "        \n",
    "#         latent_dim = NUM_FUNCTIONS\n",
    "#         self.fn_net = nn.Linear(latent_dim, NUM_FUNCTIONS)\n",
    "        \n",
    "#     def action(self, action):\n",
    "#         #print(\"action:\", action)\n",
    "#         #print(\"action.size()\", len(action))\n",
    "#         #print(self.fn_net.weight)\n",
    "#         fn_logits = torch.tensor(action[:NUM_FUNCTIONS]) #self.fn_net(torch.tensor(action[:NUM_FUNCTIONS]))\n",
    "#         #print(\"fn_logits:\", fn_logits)\n",
    "#         #fn_index = Categorical(logits=fn_logits).sample().item()\n",
    "        \n",
    "#         fn_index = torch.argmax(Categorical(logits=fn_logits).probs).item()\n",
    "#         inputs = action[NUM_FUNCTIONS:]\n",
    "        \n",
    "#         #input_logits = torch.tensor(action[NUM_FUNCTIONS:])\n",
    "#         #input_index = Categorical(logits=input_logits).sample().item()\n",
    "        \n",
    "#         res = {\n",
    "#             \"function\": fn_index,\n",
    "#             \"input\": round(inputs[0])\n",
    "#         }\n",
    "        \n",
    "#         return res\n",
    "\n",
    "#     def reverse_action(self, action):\n",
    "#         fn_one_hot = np.zeros(NUM_FUNCTIONS)\n",
    "#         fn_i = action[\"function\"]\n",
    "#         fn_one_hot[fn_i] = 1.0\n",
    "        \n",
    "#         inputs = np.array([action[\"input\"],], dtype=np.float32)\n",
    "#         #input_one_hot = np.zeros(MAX_INPUT)\n",
    "#         #input_i = action[\"input\"]\n",
    "#         #input_one_hot[input_i] = 1.0\n",
    "        \n",
    "#         res = np.concatenate((fn_one_hot, inputs), axis=0)\n",
    "#         return res\n",
    "\n",
    "class MyObservationWrapper(gym.ObservationWrapper):\n",
    "    def __init__(self, env):\n",
    "        super(MyObservationWrapper, self).__init__(env)\n",
    "        \n",
    "        points_per_function = 2\n",
    "        features_per_function = 2\n",
    "        self.points_size = env.max_num_functions * points_per_function\n",
    "        self.features_size = env.max_num_functions * features_per_function\n",
    "        self.actions_size = env.action_history_size * env.max_num_functions\n",
    "        self.inputs_size = env.action_history_size\n",
    "        self.rewards_size = env.action_history_size\n",
    "        \n",
    "        size = self.points_size + self.features_size + self.actions_size + self.inputs_size + self.rewards_size\n",
    "        self.observation_space = spaces.Box(\n",
    "            low=-np.inf, \n",
    "            high=np.inf, \n",
    "            shape=(size,)\n",
    "        )\n",
    "            \n",
    "    def reverse_observation(self, observation):\n",
    "        #print(\"reverse_observation:\", observation)\n",
    "        \n",
    "        points_begin = 0\n",
    "        points_end = self.points_size\n",
    "        \n",
    "        features_begin = self.points_size\n",
    "        features_end = self.points_size + self.features_size\n",
    "        \n",
    "        actions_begin = features_end\n",
    "        actions_end = features_end + self.actions_size\n",
    "        \n",
    "        inputs_begin = actions_end\n",
    "        inputs_end = actions_end + self.inputs_size\n",
    "        \n",
    "        rewards_begin = inputs_end\n",
    "        rewards_end = inputs_end + self.rewards_size\n",
    "        \n",
    "        return {\n",
    "            \"points\": observation[points_begin:points_end],\n",
    "            \"features\": observation[features_begin:features_end],\n",
    "            \"actions\": observation[actions_begin:actions_end].reshape(self.env.action_history_size, self.env.max_num_functions),\n",
    "            \"inputs\": observation[inputs_begin:inputs_end],\n",
    "            \"rewards\": observation[rewards_begin:rewards_end]\n",
    "        }\n",
    "    \n",
    "    def observation(self, observation):\n",
    "        #print(\"observation:\", observation)\n",
    "        return np.concatenate((\n",
    "            observation[\"points\"], \n",
    "            observation[\"features\"],\n",
    "            observation[\"actions\"].reshape(-1),\n",
    "            observation[\"inputs\"],\n",
    "            observation[\"rewards\"]\n",
    "        ), axis=0)\n",
    "\n",
    "class MyActionWrapper(gym.ActionWrapper):\n",
    "    def __init__(self, env):\n",
    "        super(MyActionWrapper, self).__init__(env)\n",
    "        self.action_space = spaces.MultiDiscrete([env.max_num_functions, env.max_input])\n",
    "        \n",
    "    def action(self, action):\n",
    "        #print(\"action:\", action)\n",
    "        #print(\"action.size()\", len(action))\n",
    "        return {\n",
    "            \"function\": action[0],\n",
    "            \"input\": action[1]\n",
    "        }\n",
    "\n",
    "    def reverse_action(self, action):\n",
    "        return np.array([action[\"function\"], action[\"input\"]])\n",
    "    \n",
    "class SaveOnBestTrainingRewardCallback(BaseCallback):\n",
    "    \"\"\"\n",
    "    Callback for saving a model (the check is done every ``check_freq`` steps)\n",
    "    based on the training reward (in practice, we recommend using ``EvalCallback``).\n",
    "\n",
    "    :param check_freq: (int)\n",
    "    :param log_dir: (str) Path to the folder where the model will be saved.\n",
    "      It must contains the file created by the ``Monitor`` wrapper.\n",
    "    :param verbose: (int)\n",
    "    \"\"\"\n",
    "    def __init__(self, check_freq: int, log_dir: str, verbose=1):\n",
    "        super(SaveOnBestTrainingRewardCallback, self).__init__(verbose)\n",
    "        self.check_freq = check_freq\n",
    "        self.log_dir = log_dir\n",
    "        self.save_path = os.path.join(log_dir, 'best_model')\n",
    "        self.best_mean_reward = -np.inf\n",
    "\n",
    "    def _init_callback(self) -> None:\n",
    "        # Create folder if needed\n",
    "        if self.save_path is not None:\n",
    "            os.makedirs(self.save_path, exist_ok=True)\n",
    "\n",
    "    def _on_step(self) -> bool:\n",
    "        if self.n_calls % self.check_freq == 0:\n",
    "\n",
    "            # Retrieve training reward\n",
    "            x, y = ts2xy(load_results(self.log_dir), 'timesteps')\n",
    "            if len(x) > 0:\n",
    "                # Mean training reward over the last 100 episodes\n",
    "                mean_reward = np.mean(y[-100:])\n",
    "                if self.verbose > 0:\n",
    "                    print(f\"Num timesteps: {self.num_timesteps}\")\n",
    "                    print(f\"Best mean reward: {self.best_mean_reward:.2f} - Last mean reward per episode: {mean_reward:.2f}\")\n",
    "\n",
    "                # New best model, you could save the agent here\n",
    "                if mean_reward > self.best_mean_reward:\n",
    "                    self.best_mean_reward = mean_reward\n",
    "                    # Example for saving best model\n",
    "                    if self.verbose > 0:\n",
    "                        print(f\"Saving new best model to {self.save_path}.zip\")\n",
    "                    self.model.save(self.save_path)\n",
    "\n",
    "        return True\n"
   ]
  },
  {
   "cell_type": "code",
   "execution_count": 2,
   "id": "3559f8e9-5c33-4484-afe5-899cacd04894",
   "metadata": {},
   "outputs": [],
   "source": [
    "\n",
    "\n",
    "# class CustomCombinedExtractor(BaseFeaturesExtractor):\n",
    "#     def __init__(self, observation_space: gym.spaces.Dict):\n",
    "#         # We do not know features-dim here before going over all the items,\n",
    "#         # so put something dummy for now. PyTorch requires calling\n",
    "#         # nn.Module.__init__ before adding modules\n",
    "#         super(CustomCombinedExtractor, self).__init__(observation_space, features_dim=1)\n",
    "\n",
    "#         extractors = {}\n",
    "\n",
    "#         total_concat_size = 0\n",
    "#         # We need to know size of the output of this extractor,\n",
    "#         # so go over all the spaces and compute output feature sizes\n",
    "#         # for key, subspace in observation_space.spaces.items():\n",
    "#         #     if key == \"image\":\n",
    "#         #         # We will just downsample one channel of the image by 4x4 and flatten.\n",
    "#         #         # Assume the image is single-channel (subspace.shape[0] == 0)\n",
    "#         #         extractors[key] = nn.Sequential(nn.MaxPool2d(4), nn.Flatten())\n",
    "#         #         total_concat_size += subspace.shape[1] // 4 * subspace.shape[2] // 4\n",
    "#         #     elif key == \"vector\":\n",
    "#         #         # Run through a simple MLP\n",
    "#         #         extractors[key] = nn.Linear(subspace.shape[0], 16)\n",
    "#         #         total_concat_size += 16\n",
    "\n",
    "#         self.extractors = nn.ModuleDict(extractors)\n",
    "\n",
    "#         # Update the features dim manually\n",
    "#         self._features_dim = total_concat_size\n",
    "\n",
    "#     def forward(self, observations) -> torch.Tensor:\n",
    "#         print(\"CustomCombinedExtractor.forward\")\n",
    "#         print(\"observations.size():\", observations.size())\n",
    "#         print(\"observations:\", observations)\n",
    "#         encoded_tensor_list = []\n",
    "\n",
    "#         # self.extractors contain nn.Modules that do all the processing.\n",
    "#         for key, extractor in self.extractors.items():\n",
    "#             encoded_tensor_list.append(extractor(observations[key]))\n",
    "#         # Return a (B, self._features_dim) PyTorch tensor, where B is batch dimension.\n",
    "#         return torch.cat(encoded_tensor_list, dim=1)\n",
    "\n",
    "\n",
    "class ScaledDotProductAttention(nn.Module):\n",
    "    ''' Scaled Dot-Product Attention '''\n",
    "\n",
    "    def __init__(self, temperature, attn_dropout=0.1):\n",
    "        super().__init__()\n",
    "        self.temperature = temperature\n",
    "        self.dropout = nn.Dropout(attn_dropout)\n",
    "\n",
    "    def forward(self, q, k, v, mask=None):\n",
    "\n",
    "        attn = torch.matmul(q / self.temperature, k.transpose(2, 3))\n",
    "\n",
    "        if mask is not None:\n",
    "            attn = attn.masked_fill(mask == 0, -1e9)\n",
    "\n",
    "        attn = self.dropout(F.softmax(attn, dim=-1))\n",
    "        output = torch.matmul(attn, v)\n",
    "\n",
    "        return output, attn\n",
    "\n",
    "class MultiHeadAttention(nn.Module):\n",
    "    ''' Multi-Head Attention module '''\n",
    "\n",
    "    def __init__(self, n_head, d_model, d_k, d_v, dropout=0.1):\n",
    "        super().__init__()\n",
    "\n",
    "        self.n_head = n_head\n",
    "        self.d_k = d_k\n",
    "        self.d_v = d_v\n",
    "\n",
    "        self.w_qs = nn.Linear(d_model, n_head * d_k, bias=False)\n",
    "        self.w_ks = nn.Linear(d_model, n_head * d_k, bias=False)\n",
    "        self.w_vs = nn.Linear(d_model, n_head * d_v, bias=False)\n",
    "        self.fc = nn.Linear(n_head * d_v, d_model, bias=False)\n",
    "\n",
    "        self.attention = ScaledDotProductAttention(temperature=d_k ** 0.5)\n",
    "\n",
    "        self.dropout = nn.Dropout(dropout)\n",
    "        self.layer_norm = nn.LayerNorm(d_model, eps=1e-6)\n",
    "\n",
    "\n",
    "    def forward(self, q, k, v, mask=None):\n",
    "\n",
    "        d_k, d_v, n_head = self.d_k, self.d_v, self.n_head\n",
    "        sz_b, len_q, len_k, len_v = q.size(0), q.size(1), k.size(1), v.size(1)\n",
    "\n",
    "        residual = q\n",
    "\n",
    "        # Pass through the pre-attention projection: b x lq x (n*dv)\n",
    "        # Separate different heads: b x lq x n x dv\n",
    "        q = self.w_qs(q).view(sz_b, len_q, n_head, d_k)\n",
    "        k = self.w_ks(k).view(sz_b, len_k, n_head, d_k)\n",
    "        v = self.w_vs(v).view(sz_b, len_v, n_head, d_v)\n",
    "\n",
    "        # Transpose for attention dot product: b x n x lq x dv\n",
    "        q, k, v = q.transpose(1, 2), k.transpose(1, 2), v.transpose(1, 2)\n",
    "\n",
    "        if mask is not None:\n",
    "            mask = mask.unsqueeze(1)   # For head axis broadcasting.\n",
    "\n",
    "        q, attn = self.attention(q, k, v, mask=mask)\n",
    "\n",
    "        # Transpose to move the head dimension back: b x lq x n x dv\n",
    "        # Combine the last two dimensions to concatenate all the heads together: b x lq x (n*dv)\n",
    "        q = q.transpose(1, 2).contiguous().view(sz_b, len_q, -1)\n",
    "        q = self.dropout(self.fc(q))\n",
    "        q += residual\n",
    "\n",
    "        q = self.layer_norm(q)\n",
    "\n",
    "        return q, attn\n",
    "\n",
    "from stable_baselines3.common.preprocessing import get_flattened_obs_dim\n",
    "class CustomExtractor(BaseFeaturesExtractor):\n",
    "\n",
    "    def __init__(self, observation_space: gym.Space):\n",
    "        super().__init__(observation_space, features_dim=128)\n",
    "\n",
    "    def forward(self, observations):\n",
    "        #print(observations)\n",
    "        #print(observations.size())\n",
    "        return observations\n",
    "\n",
    "\n",
    "class CustomModule(nn.Module):\n",
    "    def __init__(self):\n",
    "        super(CustomModule, self).__init__()\n",
    "        self.d_model = 128\n",
    "        \n",
    "        self.points_per_function = 2\n",
    "        self.features_per_function = 2\n",
    "        self.action_history_size = 2 * MAX_NUM_FUNCTIONS\n",
    "        self.points_size = MAX_NUM_FUNCTIONS * self.points_per_function\n",
    "        self.features_size = MAX_NUM_FUNCTIONS * self.features_per_function\n",
    "        self.actions_size = self.action_history_size * MAX_NUM_FUNCTIONS\n",
    "        self.inputs_size = self.action_history_size\n",
    "        self.rewards_size = self.action_history_size\n",
    "        \n",
    "        \n",
    "        self.fc_x = nn.Linear(self.features_per_function, self.d_model)\n",
    "        self.fc_history = nn.Linear(4, self.d_model)\n",
    "        self.fc_out = nn.Linear(256, self.d_model)\n",
    "    \n",
    "    def forward(self, observations):\n",
    "        #return observations\n",
    "        batch_dim = observations.size()[0]\n",
    "        \n",
    "        points_begin = 0\n",
    "        points_end = self.points_size\n",
    "        \n",
    "        features_begin = self.points_size\n",
    "        features_end = self.points_size + self.features_size\n",
    "        \n",
    "        actions_begin = features_end\n",
    "        actions_end = features_end + self.actions_size\n",
    "        \n",
    "        inputs_begin = actions_end\n",
    "        inputs_end = actions_end + self.inputs_size\n",
    "        \n",
    "        rewards_begin = inputs_end\n",
    "        rewards_end = inputs_end + self.rewards_size\n",
    "    \n",
    "        #points = observations[:, points_begin:points_end].reshape(batch_dim, -1, self.points_per_function)\n",
    "        features = observations[:, features_begin:features_end].reshape(batch_dim, -1, self.features_per_function)\n",
    "        actions = observations[:, actions_begin:actions_end].reshape(batch_dim, self.action_history_size, MAX_NUM_FUNCTIONS)\n",
    "        inputs = observations[:, inputs_begin:inputs_end].reshape(batch_dim, self.action_history_size, 1)\n",
    "        rewards = observations[:, rewards_begin:rewards_end].reshape(batch_dim, self.action_history_size, 1)\n",
    "        \n",
    "        #print(\"points:\", points.size())\n",
    "        # print(\"features:\", features.size())\n",
    "        # print(\"actions:\", actions.size())\n",
    "        # print(\"inputs:\", inputs.size())\n",
    "        # print(\"rewards:\", rewards.size())\n",
    "        x = features #torch.cat([features, points], dim=2)\n",
    "        history = torch.cat([actions, inputs, rewards], dim=2)\n",
    "        \n",
    "        #print(\"observations:\", observations.size())\n",
    "        #print(\"x:\", x.size())\n",
    "        #print(\"history:\", history.size())\n",
    "        \n",
    "        x = F.relu(self.fc_x(x))\n",
    "        x = torch.max(x, dim=1).values\n",
    "        \n",
    "        history = F.relu(self.fc_history(history))\n",
    "        history = torch.max(history, dim=1).values\n",
    "        \n",
    "        x = torch.cat([x, history], dim=1)\n",
    "        x = F.relu(self.fc_out(x))\n",
    "        #x = torch.mean(x, dim=1)\n",
    "        \n",
    "        # if observations.size()[0] > 1:\n",
    "        #     print(\"obs, x:\", observations.size(), x.size())\n",
    "        #     print(\"points:\", points, points.size())\n",
    "        #     print(\"features:\", features, features.size())\n",
    "        return x\n",
    "    \n",
    "    \n",
    "class CustomNetwork(nn.Module):\n",
    "    \"\"\"\n",
    "    Custom network for policy and value function.\n",
    "    It receives as input the features extracted by the feature extractor.\n",
    "\n",
    "    :param feature_dim: dimension of the features extracted with the features_extractor (e.g. features from a CNN)\n",
    "    :param last_layer_dim_pi: (int) number of units for the last layer of the policy network\n",
    "    :param last_layer_dim_vf: (int) number of units for the last layer of the value network\n",
    "    \"\"\"\n",
    "\n",
    "    def __init__(\n",
    "        self,\n",
    "        feature_dim: int,\n",
    "        last_layer_dim_pi: int = 128,\n",
    "        last_layer_dim_vf: int = 128,\n",
    "    ):\n",
    "        super(CustomNetwork, self).__init__()\n",
    "        \n",
    "        # IMPORTANT:\n",
    "        # Save output dimensions, used to create the distributions\n",
    "        self.latent_dim_pi = last_layer_dim_pi\n",
    "        self.latent_dim_vf = last_layer_dim_vf\n",
    "\n",
    "        # Policy network\n",
    "        self.policy_net = nn.Sequential(\n",
    "            CustomModule(),\n",
    "            nn.Linear(128, last_layer_dim_pi), nn.ReLU(),\n",
    "            nn.Linear(last_layer_dim_pi, last_layer_dim_pi), nn.ReLU()\n",
    "        )\n",
    "        # Value network\n",
    "        self.value_net = nn.Sequential(\n",
    "            CustomModule(),\n",
    "            nn.Linear(128, last_layer_dim_vf), nn.ReLU(),\n",
    "            nn.Linear(last_layer_dim_vf, last_layer_dim_vf), nn.ReLU()\n",
    "        )\n",
    "\n",
    "    def forward(self, features: torch.Tensor) -> Tuple[torch.Tensor, torch.Tensor]:\n",
    "        \"\"\"\n",
    "        :return: (th.Tensor, th.Tensor) latent_policy, latent_value of the specified network.\n",
    "            If all layers are shared, then ``latent_policy == latent_value``\n",
    "        \"\"\"\n",
    "        \n",
    "        p = self.policy_net(features)\n",
    "        v = self.value_net(features)\n",
    "        #print(\"forward:\", features.size(), p.size(), v.size())\n",
    "        return p, v\n",
    "\n",
    "    def forward_actor(self, features: torch.Tensor) -> torch.Tensor:\n",
    "        p = self.policy_net(features)\n",
    "        #print(\"p:\", features.size(), p.size())\n",
    "        return p\n",
    "\n",
    "    def forward_critic(self, features: torch.Tensor) -> torch.Tensor:\n",
    "        v = self.value_net(features)\n",
    "        #print(\"v:\", features.size(), v.size())\n",
    "        return v\n",
    "\n",
    "\n",
    "class CustomActorCriticPolicy(ActorCriticPolicy):\n",
    "    def __init__(\n",
    "        self,\n",
    "        observation_space: gym.spaces.Space,\n",
    "        action_space: gym.spaces.Space,\n",
    "        lr_schedule: Callable[[float], float],\n",
    "        net_arch: Optional[List[Union[int, Dict[str, List[int]]]]] = None,\n",
    "        activation_fn: Type[nn.Module] = nn.Tanh,\n",
    "        *args,\n",
    "        **kwargs,\n",
    "    ):\n",
    "\n",
    "        super(CustomActorCriticPolicy, self).__init__(\n",
    "            observation_space,\n",
    "            action_space,\n",
    "            lr_schedule,\n",
    "            net_arch,\n",
    "            activation_fn,\n",
    "            # Pass remaining arguments to base class\n",
    "            *args,\n",
    "            **kwargs,\n",
    "        )\n",
    "        # Disable orthogonal initialization\n",
    "        self.ortho_init = False\n",
    "\n",
    "    def _build_mlp_extractor(self) -> None:\n",
    "        self.mlp_extractor = CustomNetwork(self.features_dim)"
   ]
  },
  {
   "cell_type": "code",
   "execution_count": 24,
   "id": "01bfe6c9-8c45-44d5-b72c-1df7829ac8d7",
   "metadata": {},
   "outputs": [
    {
     "name": "stderr",
     "output_type": "stream",
     "text": [
      "/Users/matus/Documents/soroban/simple-contract-generator/baselines3/stable_baselines3/common/env_checker.py:81: UserWarning: The action space is not based off a numpy array. Typically this means it's either a Dict or Tuple space. This type of action space is currently not supported by Stable Baselines 3. You should try to flatten the action using a wrapper.\n",
      "  warnings.warn(\n",
      "/Users/matus/Documents/soroban/simple-contract-generator/baselines3/stable_baselines3/common/env_checker.py:130: UserWarning: Your observation actions has an unconventional shape (neither an image, nor a 1D vector). We recommend you to flatten the observation to have only a 1D vector or use a custom policy to properly process the data.\n",
      "  warnings.warn(\n"
     ]
    }
   ],
   "source": [
    "class DummyContractV2:\n",
    "    def __init__(self, num_functions, features):\n",
    "        self.num_functions = num_functions\n",
    "        self.points = [0 for i in range(2 * num_functions)] #coverage\n",
    "        self.features = features\n",
    "        \n",
    "    def get_points(self):\n",
    "        return self.points\n",
    "        \n",
    "    def get_features(self):\n",
    "        return self.features\n",
    "    \n",
    "    def get_points_sum(self):\n",
    "        return sum(self.points) #np.array(self.points).sum()\n",
    "        \n",
    "    def call(self, fn_i, x):\n",
    "        prev_score = self.get_points_sum()\n",
    "        \n",
    "        if fn_i < self.num_functions:\n",
    "             \n",
    "            if x == self.features[2 * fn_i]:\n",
    "                self.points[2 * fn_i] = 1\n",
    "\n",
    "            if x == self.features[2 * fn_i + 1]:\n",
    "                self.points[2 * fn_i + 1] = 1\n",
    "                    \n",
    "class DummyContractV3:\n",
    "    def __init__(self, num_functions, features):\n",
    "        self.wasm_path = \"./soroban/dyet-test/target/wasm32-unknown-unknown/release/dyet_test.wasm\"\n",
    "        vec = \",\".join([f'{{\"u32\": {f} }}' for f in features])\n",
    "        fs = f'{{ \"object\": {{ \"vec\": [{vec}] }} }}'\n",
    "        command_init = f\"soroban contract invoke --wasm {self.wasm_path} --id 1 --fn init -- --num_fns {num_functions} --features '{fs}'\"\n",
    "        os.popen(command_init).read()\n",
    "    \n",
    "    def get_points(self):\n",
    "        command_call = f\"soroban contract invoke --wasm {self.wasm_path} --id 1 --fn coverage\"\n",
    "        covered_blocks = json.loads(os.popen(command_call).read())\n",
    "        return covered_blocks\n",
    "    \n",
    "    def get_features(self):\n",
    "        command_call = f\"soroban contract invoke --wasm {self.wasm_path} --id 1 --fn features\"\n",
    "        features = json.loads(os.popen(command_call).read())\n",
    "        return features\n",
    "        \n",
    "    def get_points_sum(self):\n",
    "        command_call = f\"soroban contract invoke --wasm {self.wasm_path} --id 1 --fn coverage\"\n",
    "        covered_blocks = json.loads(os.popen(command_call).read())\n",
    "        s = int(np.array(covered_blocks).sum())\n",
    "        return s\n",
    "        \n",
    "    def call(self, fn_i, arg):\n",
    "        command_call = f\"soroban contract invoke --wasm {self.wasm_path} --id 1 --fn call -- --fn_i {fn_i} --arg {arg}\"\n",
    "        return json.loads(os.popen(command_call).read())\n",
    "    \n",
    "#         prev_score = self.get_points_sum()\n",
    "        \n",
    "#         if fn_i < self.num_functions:\n",
    "             \n",
    "#             if x == self.features[2 * fn_i]:\n",
    "#                 self.points[2 * fn_i] = 1\n",
    "\n",
    "#             if x == self.features[2 * fn_i + 1]:\n",
    "#                 self.points[2 * fn_i + 1] = 1\n",
    "            \n",
    "#         score = self.get_points_sum()\n",
    "#         reward = score - prev_score\n",
    "#         reward = -1 if reward == 0 else reward\n",
    "#         return reward\n",
    "    \n",
    "\n",
    "\n",
    "class MyEnv(gym.Env):\n",
    "    \n",
    "    def __init__(self, max_num_functions, max_input):\n",
    "        super(MyEnv, self).__init__()\n",
    "        self.contract = None\n",
    "        self.num_steps = None\n",
    "        self.action_history = None\n",
    "        \n",
    "        self.max_num_functions = max_num_functions\n",
    "        self.max_input = max_input\n",
    "        self.action_history_size = 2 * max_num_functions\n",
    "        \n",
    "        self.observation_space = spaces.Dict({\n",
    "            \"points\": spaces.MultiBinary(2 * max_num_functions), \n",
    "            \"features\": spaces.MultiDiscrete([max_input for i in range(2 * max_num_functions)]),\n",
    "            #spaces.Box(low=0.0, high=max_input, shape=(2 * max_num_functions,)),\n",
    "            #spaces.MultiDiscrete([max_input for i in range(2 * max_num_functions)]),\n",
    "            # \"action_history\": spaces.Box(\n",
    "            #     low=-1.0, \n",
    "            #     high=max_input, \n",
    "            #     shape=(self.action_history_size, 3)\n",
    "            # )\n",
    "            \"actions\": spaces.Box(\n",
    "                low=-1.0, \n",
    "                high=1.0, \n",
    "                shape=(self.action_history_size, self.max_num_functions)\n",
    "            ),\n",
    "            \"inputs\": spaces.Box(\n",
    "                low=-1.0, \n",
    "                high=self.max_input, \n",
    "                shape=(self.action_history_size,)\n",
    "            ),\n",
    "            \"rewards\": spaces.Box(\n",
    "                low=-1.0, \n",
    "                high=1.0, \n",
    "                shape=(self.action_history_size,)\n",
    "            )\n",
    "        })\n",
    "        \n",
    "        self.action_space = spaces.Dict({\n",
    "            \"function\": spaces.Discrete(max_num_functions), \n",
    "            \"input\": spaces.Discrete(max_input) #spaces.Box(low=0.0, high=MAX_INPUT, shape=(1,))\n",
    "        })\n",
    "    \n",
    "    def create_observation(self):\n",
    "        points = self.contract.get_points()\n",
    "        features = self.contract.get_features()\n",
    "        action_history = self.action_history\n",
    "        \n",
    "        obs_points = np.zeros(self.observation_space[\"points\"].shape, dtype=np.int8)\n",
    "        obs_features = np.zeros(self.observation_space[\"features\"].shape, dtype=np.float32)\n",
    "        #obs_action_history = np.zeros(self.observation_space[\"action_history\"].shape, dtype=np.float32)\n",
    "        obs_actions = np.full(self.observation_space[\"actions\"].shape, -1, dtype=np.float32) #np.zeros(self.observation_space[\"actions\"].shape, dtype=np.float32)\n",
    "        obs_inputs = np.full(self.observation_space[\"inputs\"].shape, -1, dtype=np.float32) #np.zeros(self.observation_space[\"inputs\"].shape, dtype=np.float32)\n",
    "        obs_rewards = np.zeros(self.observation_space[\"rewards\"].shape, dtype=np.float32)\n",
    "        \n",
    "        obs_points[0:len(points)] = points\n",
    "        obs_features[0:len(features)] = features\n",
    "        \n",
    "        if len(action_history) > 0:\n",
    "            for i, action in enumerate(action_history):\n",
    "                fn_i = action[0]\n",
    "                obs_actions[i, :] = 0\n",
    "                obs_actions[i, fn_i] = 1\n",
    "            obs_inputs[0:len(action_history)] = [x[1] for x in action_history]\n",
    "            obs_rewards[0:len(action_history)] = [x[2] for x in action_history]\n",
    "        #if len(self.action_history) > 0:\n",
    "        #    obs_action_history[0:len(self.action_history), :] = self.action_history\n",
    "            #print(obs_action_history)\n",
    "        \n",
    "        observation = {\n",
    "            \"points\": obs_points, \n",
    "            \"features\": obs_features,\n",
    "            \"actions\": obs_actions,\n",
    "            \"inputs\": obs_inputs,\n",
    "            \"rewards\": obs_rewards\n",
    "            #\"action_history\": obs_action_history\n",
    "        }\n",
    "        \n",
    "        #print(\"observation:\", observation)\n",
    "        \n",
    "        return observation\n",
    "        \n",
    "    def reset(self, new=False):\n",
    "        if new or self.contract is None:\n",
    "            num_functions = random.randint(2, self.max_num_functions)\n",
    "\n",
    "            features = self.observation_space[\"features\"].sample().tolist()\n",
    "\n",
    "            # print(features, len(features))\n",
    "            # print(num_functions)\n",
    "            # print(features[:2 * num_functions])\n",
    "\n",
    "            self.contract = DummyContractV2(num_functions, features[:2 * num_functions])\n",
    "            self.num_steps = 0\n",
    "            self.action_history = []\n",
    "\n",
    "            return self.create_observation()\n",
    "        \n",
    "        else:\n",
    "            self.num_steps = 0\n",
    "            self.action_history = []\n",
    "            features = self.contract.get_features()\n",
    "            self.contract = DummyContractV2(len(features)//2, features)\n",
    "            #self.contract.points = [0 for x in self.contract.points]\n",
    "            return self.create_observation()\n",
    "    \n",
    "    def step(self, action):\n",
    "        #print(action)\n",
    "        self.num_steps += 1\n",
    "        fn_index, fn_input = action[\"function\"], action[\"input\"]\n",
    "        \n",
    "        prev_score = self.contract.get_points_sum()\n",
    "        self.contract.call(fn_index, fn_input)\n",
    "        score = self.contract.get_points_sum()\n",
    "        reward = score - prev_score\n",
    "        reward = -1 if reward == 0 else reward\n",
    "        \n",
    "        info = {}\n",
    "        \n",
    "        max_score = len(self.contract.get_points())\n",
    "        \n",
    "        done = self.num_steps >= max_score or score >= max_score\n",
    "        \n",
    "        #print(\"done:\", done, isinstance(done, bool), type(done))\n",
    "                \n",
    "        self.action_history.append([fn_index, fn_input, reward])\n",
    "        \n",
    "        observation = self.create_observation()\n",
    "        \n",
    "        reward /= max_score\n",
    "        \n",
    "        #print(f\"reward: {reward}, score: {score}, max_score: {max_score}, num_steps: {self.num_steps}\")\n",
    "\n",
    "        return observation, reward, done, info\n",
    "        \n",
    "    def render(self, mode='console'):        \n",
    "        raise NotImplementedError()\n",
    "\n",
    "    def close(self):\n",
    "        pass\n",
    "\n",
    "env = MyEnv(max_num_functions=MAX_NUM_FUNCTIONS, max_input=MAX_INPUT)\n",
    "# If the environment don't follow the interface, an error will be thrown\n",
    "check_env(env, warn=True)"
   ]
  },
  {
   "cell_type": "code",
   "execution_count": 46,
   "id": "518ecde4-47fb-4d60-b59c-d11fd63206f3",
   "metadata": {},
   "outputs": [],
   "source": [
    "log_dir = \"./tmp/gym/\"\n",
    "os.makedirs(log_dir, exist_ok=True)\n",
    "\n",
    "env = MyObservationWrapper(MyActionWrapper(MyEnv(max_num_functions=MAX_NUM_FUNCTIONS, max_input=MAX_INPUT)))\n",
    "env = Monitor(env, log_dir)\n",
    "\n",
    "policy_kwargs = {\n",
    "    \"features_extractor_class\": CustomExtractor,\n",
    "    #features_extractor_kwargs=dict(features_dim=128),\n",
    "}\n",
    "\n",
    "#policy_kwargs = dict(net_arch=[64, 64])\n",
    "\n",
    "#model = PPO(MlpPolicy, env, verbose=0, policy_kwargs=policy_kwargs)\n",
    "model = PPO(CustomActorCriticPolicy, env, verbose=0, policy_kwargs=policy_kwargs)\n",
    "\n",
    "callback = SaveOnBestTrainingRewardCallback(check_freq=1000, log_dir=log_dir)"
   ]
  },
  {
   "cell_type": "code",
   "execution_count": 47,
   "id": "e99f9ab2-be26-407c-9d89-4b77dc379727",
   "metadata": {},
   "outputs": [
    {
     "data": {
      "text/plain": [
       "CustomNetwork(\n",
       "  (policy_net): Sequential(\n",
       "    (0): CustomModule(\n",
       "      (fc_x): Linear(in_features=2, out_features=128, bias=True)\n",
       "      (fc_history): Linear(in_features=4, out_features=128, bias=True)\n",
       "      (fc_out): Linear(in_features=256, out_features=128, bias=True)\n",
       "    )\n",
       "    (1): Linear(in_features=128, out_features=128, bias=True)\n",
       "    (2): ReLU()\n",
       "    (3): Linear(in_features=128, out_features=128, bias=True)\n",
       "    (4): ReLU()\n",
       "  )\n",
       "  (value_net): Sequential(\n",
       "    (0): CustomModule(\n",
       "      (fc_x): Linear(in_features=2, out_features=128, bias=True)\n",
       "      (fc_history): Linear(in_features=4, out_features=128, bias=True)\n",
       "      (fc_out): Linear(in_features=256, out_features=128, bias=True)\n",
       "    )\n",
       "    (1): Linear(in_features=128, out_features=128, bias=True)\n",
       "    (2): ReLU()\n",
       "    (3): Linear(in_features=128, out_features=128, bias=True)\n",
       "    (4): ReLU()\n",
       "  )\n",
       ")"
      ]
     },
     "execution_count": 47,
     "metadata": {},
     "output_type": "execute_result"
    }
   ],
   "source": [
    "model.policy.mlp_extractor"
   ]
  },
  {
   "cell_type": "code",
   "execution_count": 48,
   "id": "4dde4202-a867-4334-be60-5298fa188a1d",
   "metadata": {},
   "outputs": [
    {
     "data": {
      "text/plain": [
       "CustomExtractor()"
      ]
     },
     "execution_count": 48,
     "metadata": {},
     "output_type": "execute_result"
    }
   ],
   "source": [
    "model.policy.features_extractor"
   ]
  },
  {
   "cell_type": "code",
   "execution_count": null,
   "id": "053345cb-37e8-46b1-a7de-dc68505937f7",
   "metadata": {},
   "outputs": [],
   "source": []
  },
  {
   "cell_type": "code",
   "execution_count": 50,
   "id": "c31a415b-1a75-4923-89bd-1383d4177ecc",
   "metadata": {},
   "outputs": [
    {
     "name": "stdout",
     "output_type": "stream",
     "text": [
      "mean_reward:-1.00 +/- 0.00\n",
      "CPU times: user 7.28 ms, sys: 2.76 ms, total: 10 ms\n",
      "Wall time: 10.2 ms\n"
     ]
    }
   ],
   "source": [
    "%%time\n",
    "mean_reward, std_reward = evaluate_policy(model, env, n_eval_episodes=1)\n",
    "print(f\"mean_reward:{mean_reward:.2f} +/- {std_reward:.2f}\")"
   ]
  },
  {
   "cell_type": "code",
   "execution_count": null,
   "id": "83d25c68-6889-4557-bf83-04f6b798f078",
   "metadata": {},
   "outputs": [],
   "source": []
  },
  {
   "cell_type": "code",
   "execution_count": 52,
   "id": "e92f2c2c-a65c-44be-9fb4-4b5b8d8e6209",
   "metadata": {},
   "outputs": [
    {
     "name": "stdout",
     "output_type": "stream",
     "text": [
      "Num timesteps: 648\n",
      "Best mean reward: 1.00 - Last mean reward per episode: 0.89\n",
      "Num timesteps: 1648\n",
      "Best mean reward: 1.00 - Last mean reward per episode: 0.86\n",
      "Num timesteps: 2648\n",
      "Best mean reward: 1.00 - Last mean reward per episode: 0.89\n",
      "Num timesteps: 3648\n",
      "Best mean reward: 1.00 - Last mean reward per episode: 0.89\n",
      "Num timesteps: 4648\n",
      "Best mean reward: 1.00 - Last mean reward per episode: 0.95\n",
      "Num timesteps: 5648\n",
      "Best mean reward: 1.00 - Last mean reward per episode: 0.95\n",
      "Num timesteps: 6648\n",
      "Best mean reward: 1.00 - Last mean reward per episode: 0.99\n",
      "Num timesteps: 7648\n",
      "Best mean reward: 1.00 - Last mean reward per episode: 0.98\n",
      "Num timesteps: 8648\n",
      "Best mean reward: 1.00 - Last mean reward per episode: 0.87\n",
      "Num timesteps: 9648\n",
      "Best mean reward: 1.00 - Last mean reward per episode: 0.86\n",
      "mean_reward:1.00 +/- 0.00\n"
     ]
    }
   ],
   "source": [
    "model.learn(total_timesteps=10000, callback=callback)\n",
    "mean_reward, std_reward = evaluate_policy(model, env, n_eval_episodes=10)\n",
    "\n",
    "print(f\"mean_reward:{mean_reward:.2f} +/- {std_reward:.2f}\")"
   ]
  },
  {
   "cell_type": "code",
   "execution_count": 53,
   "id": "5a07324d-156e-4fdf-bb6c-131e352a9b7e",
   "metadata": {},
   "outputs": [
    {
     "name": "stdout",
     "output_type": "stream",
     "text": [
      "[[array([1, 0]),\n",
      "  {'actions': array([[ 0.,  1.],\n",
      "       [-1., -1.],\n",
      "       [-1., -1.],\n",
      "       [-1., -1.]], dtype=float32),\n",
      "   'features': array([0., 0., 1., 0.], dtype=float32),\n",
      "   'inputs': array([ 0., -1., -1., -1.], dtype=float32),\n",
      "   'points': array([0., 0., 0., 1.], dtype=float32),\n",
      "   'rewards': array([1., 0., 0., 0.], dtype=float32)},\n",
      "  0.25,\n",
      "  False],\n",
      " [array([1, 0]),\n",
      "  {'actions': array([[ 0.,  1.],\n",
      "       [ 0.,  1.],\n",
      "       [-1., -1.],\n",
      "       [-1., -1.]], dtype=float32),\n",
      "   'features': array([0., 0., 1., 0.], dtype=float32),\n",
      "   'inputs': array([ 0.,  0., -1., -1.], dtype=float32),\n",
      "   'points': array([0., 0., 0., 1.], dtype=float32),\n",
      "   'rewards': array([ 1., -1.,  0.,  0.], dtype=float32)},\n",
      "  -0.25,\n",
      "  False],\n",
      " [array([0, 0]),\n",
      "  {'actions': array([[ 0.,  1.],\n",
      "       [ 0.,  1.],\n",
      "       [ 1.,  0.],\n",
      "       [-1., -1.]], dtype=float32),\n",
      "   'features': array([0., 0., 1., 0.], dtype=float32),\n",
      "   'inputs': array([ 0.,  0.,  0., -1.], dtype=float32),\n",
      "   'points': array([1., 1., 0., 1.], dtype=float32),\n",
      "   'rewards': array([ 1., -1.,  2.,  0.], dtype=float32)},\n",
      "  0.5,\n",
      "  False],\n",
      " [array([1, 1]),\n",
      "  {'actions': array([[0., 1.],\n",
      "       [0., 1.],\n",
      "       [1., 0.],\n",
      "       [0., 1.]], dtype=float32),\n",
      "   'features': array([0., 0., 1., 0.], dtype=float32),\n",
      "   'inputs': array([0., 0., 0., 1.], dtype=float32),\n",
      "   'points': array([1., 1., 1., 1.], dtype=float32),\n",
      "   'rewards': array([ 1., -1.,  2.,  1.], dtype=float32)},\n",
      "  0.25,\n",
      "  True]]\n"
     ]
    }
   ],
   "source": [
    "from pprint import pprint\n",
    "for i in range(1):\n",
    "    #env = MyObservationWrapper(MyActionWrapper(MyEnv(max_num_functions=MAX_NUM_FUNCTIONS, max_input=MAX_INPUT)))\n",
    "   \n",
    "    obs = env.reset()\n",
    "    prints = []\n",
    "\n",
    "    for j in range(10):\n",
    "        action, _ = model.predict(obs)\n",
    "        obs, reward, done, info = env.step(action)\n",
    "        \n",
    "        prints.append([action, env.reverse_observation(obs), reward, done])\n",
    "         \n",
    "        if done:\n",
    "            #if j > 6:\n",
    "            #    pprint(prints)\n",
    "            break\n",
    "    pprint(prints)"
   ]
  },
  {
   "cell_type": "code",
   "execution_count": 54,
   "id": "cea50217-6040-477e-9edb-712ab2bfa118",
   "metadata": {},
   "outputs": [
    {
     "name": "stdout",
     "output_type": "stream",
     "text": [
      "mean_reward:1.00 +/- 0.00\n"
     ]
    }
   ],
   "source": [
    "mean_reward, std_reward = evaluate_policy(model, env, n_eval_episodes=10000)\n",
    "print(f\"mean_reward:{mean_reward:.2f} +/- {std_reward:.2f}\")"
   ]
  },
  {
   "cell_type": "code",
   "execution_count": 55,
   "id": "c89ec6a6-84d0-421b-9db9-c8d4461fcd09",
   "metadata": {},
   "outputs": [
    {
     "data": {
      "image/png": "[encoded data removed]",
      "text/plain": [
       "<Figure size 576x144 with 1 Axes>"
      ]
     },
     "metadata": {
      "needs_background": "light"
     },
     "output_type": "display_data"
    }
   ],
   "source": [
    "results_plotter.plot_results([log_dir], 1e5, results_plotter.X_TIMESTEPS, \"Table name\")"
   ]
  },
  {
   "cell_type": "code",
   "execution_count": 195,
   "id": "54cbb7f0-5c0a-495a-8cd9-0e5c7a476143",
   "metadata": {},
   "outputs": [],
   "source": [
    "def moving_average(values, window):\n",
    "    \"\"\"\n",
    "    Smooth values by doing a moving average\n",
    "    :param values: (numpy array)\n",
    "    :param window: (int)\n",
    "    :return: (numpy array)\n",
    "    \"\"\"\n",
    "    weights = np.repeat(1.0, window) / window\n",
    "    return np.convolve(values, weights, 'valid')\n",
    "\n",
    "\n",
    "def plot_results(log_folder, title='Learning Curve'):\n",
    "    \"\"\"\n",
    "    plot the results\n",
    "\n",
    "    :param log_folder: (str) the save location of the results to plot\n",
    "    :param title: (str) the title of the task to plot\n",
    "    \"\"\"\n",
    "    x, y = ts2xy(load_results(log_folder), 'timesteps')\n",
    "    y = moving_average(y, window=100)\n",
    "    # Truncate x\n",
    "    x = x[len(x) - len(y):]\n",
    "\n",
    "    fig = plt.figure(title)\n",
    "    plt.plot(x, y)\n",
    "    plt.xlabel('Number of Timesteps')\n",
    "    plt.ylabel('Rewards')\n",
    "    plt.title(title + \" Smoothed\")\n",
    "    plt.show()"
   ]
  },
  {
   "cell_type": "code",
   "execution_count": 196,
   "id": "1b9e9682-4625-42d8-9775-8140801e1bad",
   "metadata": {},
   "outputs": [
    {
     "data": {
      "image/png": "[encoded data removed]",
      "text/plain": [
       "<Figure size 432x288 with 1 Axes>"
      ]
     },
     "metadata": {
      "needs_background": "light"
     },
     "output_type": "display_data"
    }
   ],
   "source": [
    "plot_results(log_dir)"
   ]
  },
  {
   "cell_type": "code",
   "execution_count": null,
   "id": "ba069f75-32cc-46ed-9976-c46053eff79a",
   "metadata": {},
   "outputs": [],
   "source": []
  },
  {
   "cell_type": "code",
   "execution_count": 41,
   "id": "73e84385-d0b0-4314-b6fb-2db2301d97ee",
   "metadata": {},
   "outputs": [
    {
     "data": {
      "text/plain": [
       "[]"
      ]
     },
     "execution_count": 41,
     "metadata": {},
     "output_type": "execute_result"
    }
   ],
   "source": [
    "env.action_history"
   ]
  },
  {
   "cell_type": "code",
   "execution_count": 16,
   "id": "a4912826-0f64-4385-aef0-522ef799b4ce",
   "metadata": {},
   "outputs": [
    {
     "data": {
      "text/plain": [
       "{'points': array([0, 0, 0, 0], dtype=int8),\n",
       " 'features': array([2., 2., 1., 2.], dtype=float32),\n",
       " 'actions': array([[0., 0.],\n",
       "        [0., 0.],\n",
       "        [0., 0.],\n",
       "        [0., 0.]], dtype=float32),\n",
       " 'inputs': array([0., 0., 0., 0.], dtype=float32),\n",
       " 'rewards': array([0., 0., 0., 0.], dtype=float32)}"
      ]
     },
     "execution_count": 16,
     "metadata": {},
     "output_type": "execute_result"
    }
   ],
   "source": [
    "env = MyEnv(max_num_functions=2, max_input=3)\n",
    "env.reset()"
   ]
  },
  {
   "cell_type": "code",
   "execution_count": 17,
   "id": "51bc8c7c-214c-4775-8c7e-87dda0003cee",
   "metadata": {},
   "outputs": [
    {
     "ename": "NameError",
     "evalue": "name 'arg' is not defined",
     "output_type": "error",
     "traceback": [
      "\u001b[0;31m---------------------------------------------------------------------------\u001b[0m",
      "\u001b[0;31mNameError\u001b[0m                                 Traceback (most recent call last)",
      "Input \u001b[0;32mIn [17]\u001b[0m, in \u001b[0;36m<cell line: 1>\u001b[0;34m()\u001b[0m\n\u001b[0;32m----> 1\u001b[0m \u001b[43menv\u001b[49m\u001b[38;5;241;43m.\u001b[39;49m\u001b[43mstep\u001b[49m\u001b[43m(\u001b[49m\u001b[43m{\u001b[49m\u001b[38;5;124;43m\"\u001b[39;49m\u001b[38;5;124;43mfunction\u001b[39;49m\u001b[38;5;124;43m\"\u001b[39;49m\u001b[43m:\u001b[49m\u001b[43m \u001b[49m\u001b[38;5;241;43m1\u001b[39;49m\u001b[43m,\u001b[49m\u001b[43m \u001b[49m\u001b[38;5;124;43m\"\u001b[39;49m\u001b[38;5;124;43minput\u001b[39;49m\u001b[38;5;124;43m\"\u001b[39;49m\u001b[43m:\u001b[49m\u001b[43m \u001b[49m\u001b[38;5;241;43m1\u001b[39;49m\u001b[43m}\u001b[49m\u001b[43m)\u001b[49m\n",
      "Input \u001b[0;32mIn [6]\u001b[0m, in \u001b[0;36mMyEnv.step\u001b[0;34m(self, action)\u001b[0m\n\u001b[1;32m    200\u001b[0m fn_index, fn_input \u001b[38;5;241m=\u001b[39m action[\u001b[38;5;124m\"\u001b[39m\u001b[38;5;124mfunction\u001b[39m\u001b[38;5;124m\"\u001b[39m], action[\u001b[38;5;124m\"\u001b[39m\u001b[38;5;124minput\u001b[39m\u001b[38;5;124m\"\u001b[39m]\n\u001b[1;32m    202\u001b[0m prev_score \u001b[38;5;241m=\u001b[39m \u001b[38;5;28mself\u001b[39m\u001b[38;5;241m.\u001b[39mcontract\u001b[38;5;241m.\u001b[39mget_points_sum()\n\u001b[0;32m--> 203\u001b[0m \u001b[38;5;28;43mself\u001b[39;49m\u001b[38;5;241;43m.\u001b[39;49m\u001b[43mcontract\u001b[49m\u001b[38;5;241;43m.\u001b[39;49m\u001b[43mcall\u001b[49m\u001b[43m(\u001b[49m\u001b[43mfn_index\u001b[49m\u001b[43m,\u001b[49m\u001b[43m \u001b[49m\u001b[43mfn_input\u001b[49m\u001b[43m)\u001b[49m\n\u001b[1;32m    204\u001b[0m score \u001b[38;5;241m=\u001b[39m \u001b[38;5;28mself\u001b[39m\u001b[38;5;241m.\u001b[39mcontract\u001b[38;5;241m.\u001b[39mget_points_sum()\n\u001b[1;32m    205\u001b[0m reward \u001b[38;5;241m=\u001b[39m score \u001b[38;5;241m-\u001b[39m prev_score\n",
      "Input \u001b[0;32mIn [6]\u001b[0m, in \u001b[0;36mDummyContractV3.call\u001b[0;34m(self, fn_i, x)\u001b[0m\n\u001b[1;32m     70\u001b[0m \u001b[38;5;28;01mdef\u001b[39;00m \u001b[38;5;21mcall\u001b[39m(\u001b[38;5;28mself\u001b[39m, fn_i, x):\n\u001b[0;32m---> 71\u001b[0m     command_call \u001b[38;5;241m=\u001b[39m \u001b[38;5;124mf\u001b[39m\u001b[38;5;124m\"\u001b[39m\u001b[38;5;124msoroban contract invoke --wasm \u001b[39m\u001b[38;5;132;01m{\u001b[39;00m\u001b[38;5;28mself\u001b[39m\u001b[38;5;241m.\u001b[39mwasm_path\u001b[38;5;132;01m}\u001b[39;00m\u001b[38;5;124m --id 1 --fn call -- --fn_i \u001b[39m\u001b[38;5;132;01m{\u001b[39;00mfn_i\u001b[38;5;132;01m}\u001b[39;00m\u001b[38;5;124m --arg \u001b[39m\u001b[38;5;132;01m{\u001b[39;00marg\u001b[38;5;132;01m}\u001b[39;00m\u001b[38;5;124m\"\u001b[39m\n\u001b[1;32m     72\u001b[0m     \u001b[38;5;28;01mreturn\u001b[39;00m json\u001b[38;5;241m.\u001b[39mloads(os\u001b[38;5;241m.\u001b[39mpopen(command_call)\u001b[38;5;241m.\u001b[39mread())\n",
      "\u001b[0;31mNameError\u001b[0m: name 'arg' is not defined"
     ]
    }
   ],
   "source": [
    "env.step({\"function\": 1, \"input\": 1})"
   ]
  },
  {
   "cell_type": "code",
   "execution_count": null,
   "id": "5bdfcb53-8c1a-4bb2-8ddf-eea0208d6d18",
   "metadata": {},
   "outputs": [],
   "source": [
    "dc = DummyContractV2(num_fns, features)"
   ]
  },
  {
   "cell_type": "code",
   "execution_count": null,
   "id": "b4d3b611-b89b-40b4-8a3c-966fd4ce0ce8",
   "metadata": {},
   "outputs": [],
   "source": []
  },
  {
   "cell_type": "code",
   "execution_count": 10,
   "id": "b352c449-7ced-4ce5-9655-47b528c0dc5b",
   "metadata": {},
   "outputs": [
    {
     "data": {
      "text/plain": [
       "['Box',\n",
       " 'Dict',\n",
       " 'Discrete',\n",
       " 'MultiBinary',\n",
       " 'MultiDiscrete',\n",
       " 'Space',\n",
       " 'Tuple',\n",
       " '__all__',\n",
       " '__builtins__',\n",
       " '__cached__',\n",
       " '__doc__',\n",
       " '__file__',\n",
       " '__loader__',\n",
       " '__name__',\n",
       " '__package__',\n",
       " '__path__',\n",
       " '__spec__',\n",
       " 'box',\n",
       " 'dict',\n",
       " 'discrete',\n",
       " 'flatdim',\n",
       " 'flatten',\n",
       " 'flatten_space',\n",
       " 'multi_binary',\n",
       " 'multi_discrete',\n",
       " 'space',\n",
       " 'tuple',\n",
       " 'unflatten',\n",
       " 'utils']"
      ]
     },
     "execution_count": 10,
     "metadata": {},
     "output_type": "execute_result"
    }
   ],
   "source": [
    "dir(gym.spaces)"
   ]
  },
  {
   "cell_type": "code",
   "execution_count": 16,
   "id": "f8eb7d60-a0fe-41b0-b3a7-35042c056451",
   "metadata": {},
   "outputs": [
    {
     "data": {
      "text/plain": [
       "(2, 3, 4, 5)"
      ]
     },
     "execution_count": 16,
     "metadata": {},
     "output_type": "execute_result"
    }
   ],
   "source": [
    "(2, 3) + (4, 5)"
   ]
  },
  {
   "cell_type": "code",
   "execution_count": 33,
   "id": "4820f5bf-ed87-49d0-9a47-a2fd222a424c",
   "metadata": {},
   "outputs": [
    {
     "data": {
      "text/plain": [
       "(10, 5)"
      ]
     },
     "execution_count": 33,
     "metadata": {},
     "output_type": "execute_result"
    }
   ],
   "source": [
    "b = spaces.Box(\n",
    "    low=0.0, \n",
    "    high=1.0, \n",
    "    shape=(10, 5)\n",
    ")\n",
    "b.shape"
   ]
  },
  {
   "cell_type": "code",
   "execution_count": 8,
   "id": "58c8ea94-d309-428f-b8e8-8361b217d60a",
   "metadata": {},
   "outputs": [
    {
     "data": {
      "text/plain": [
       "OrderedDict([('action_history',\n",
       "              array([[1.8066711 , 2.9890919 , 6.019261  , 4.67686   , 3.2270215 ],\n",
       "                     [3.9573112 , 3.1858263 , 2.4332523 , 0.42170376, 7.0352054 ],\n",
       "                     [2.2451136 , 1.404828  , 2.064434  , 7.6609116 , 1.3292111 ],\n",
       "                     [0.06347949, 2.0168817 , 1.0336297 , 6.1379805 , 5.278453  ],\n",
       "                     [9.80183   , 7.031457  , 1.289134  , 1.4286542 , 9.106412  ],\n",
       "                     [9.737788  , 8.657428  , 6.9548597 , 0.799518  , 6.0859194 ],\n",
       "                     [3.4112654 , 9.002056  , 6.0207267 , 3.6499624 , 7.531077  ],\n",
       "                     [5.853317  , 0.7257287 , 7.375656  , 0.74590886, 9.674888  ],\n",
       "                     [9.841174  , 7.3044086 , 5.6559286 , 5.5741415 , 8.845847  ],\n",
       "                     [4.927478  , 6.6615987 , 8.577588  , 3.1652172 , 7.383477  ],\n",
       "                     [4.61448   , 9.162831  , 4.26521   , 0.9749578 , 0.17799926],\n",
       "                     [9.681989  , 9.029232  , 5.3188777 , 2.6579444 , 3.036686  ],\n",
       "                     [4.287898  , 4.8447347 , 4.6379495 , 0.19437547, 8.292537  ],\n",
       "                     [8.379176  , 8.508844  , 0.70354956, 1.166954  , 2.7029347 ],\n",
       "                     [3.8518283 , 2.2991397 , 0.964223  , 2.6104145 , 3.11786   ]],\n",
       "                    dtype=float32)),\n",
       "             ('features', array([8, 5, 5, 2, 2, 7, 5, 9, 5, 9])),\n",
       "             ('points', array([1, 1, 1, 1, 1], dtype=int8))])"
      ]
     },
     "execution_count": 8,
     "metadata": {},
     "output_type": "execute_result"
    }
   ],
   "source": [
    "spaces.Dict({\n",
    "    \"points\": spaces.MultiBinary(5), \n",
    "    \"features\": spaces.MultiDiscrete([10 for i in range(2 * 5)]),\n",
    "    \"action_history\": spaces.Box(\n",
    "        low=0.0, \n",
    "        high=10, \n",
    "        shape=(15, 5)\n",
    "    )\n",
    "}).sample()"
   ]
  },
  {
   "cell_type": "code",
   "execution_count": 23,
   "id": "b14c40d7-8f54-4966-ae98-3556f0c06441",
   "metadata": {},
   "outputs": [
    {
     "data": {
      "text/plain": [
       "array([1., 1., 1., 0., 0., 0., 0., 0., 0., 0.])"
      ]
     },
     "execution_count": 23,
     "metadata": {},
     "output_type": "execute_result"
    }
   ],
   "source": [
    "z = np.zeros(10)\n",
    "o = np.ones(3)\n",
    "z[0:3] = [1, 1, 1]\n",
    "z"
   ]
  },
  {
   "cell_type": "code",
   "execution_count": 30,
   "id": "26fe99b4-ff2a-418d-a7eb-f5337e06670a",
   "metadata": {},
   "outputs": [
    {
     "data": {
      "text/plain": [
       "[[1], [2]]"
      ]
     },
     "execution_count": 30,
     "metadata": {},
     "output_type": "execute_result"
    }
   ],
   "source": [
    "[[1], [2]]"
   ]
  },
  {
   "cell_type": "code",
   "execution_count": 34,
   "id": "d079e4a9-d6de-4fb9-b8d1-ab93e7f87bbe",
   "metadata": {},
   "outputs": [
    {
     "data": {
      "text/plain": [
       "array([1, 2, 3, 4])"
      ]
     },
     "execution_count": 34,
     "metadata": {},
     "output_type": "execute_result"
    }
   ],
   "source": [
    "np.array([[1,2],[3,4]]).flatten()"
   ]
  },
  {
   "cell_type": "code",
   "execution_count": 124,
   "id": "a9a18505-321a-47da-9c6a-0165ae1e0db4",
   "metadata": {},
   "outputs": [
    {
     "data": {
      "text/plain": [
       "'a2e7dbc345d1a879e64cfaddfab198d3655d21b41766e94debd2b1a2b484791a'"
      ]
     },
     "execution_count": 124,
     "metadata": {},
     "output_type": "execute_result"
    }
   ],
   "source": [
    "from stellar_sdk import Keypair\n",
    "\n",
    "Keypair.from_secret(\"SDTARUMXE5JTFB7MI3CIFOLXGBAJIGRZ4MSTLOTVJ2XIH33EBKCANQDL\").raw_public_key().hex()"
   ]
  },
  {
   "cell_type": "code",
   "execution_count": 45,
   "id": "d3114f92-5185-4706-93ba-f0cf1985f9af",
   "metadata": {},
   "outputs": [],
   "source": [
    "t = torch.randn(1, 7, 3)\n",
    "t[0, 1] = t[0, 0]\n",
    "m = nn.Linear(3, 5)"
   ]
  },
  {
   "cell_type": "code",
   "execution_count": 46,
   "id": "4675daef-18cb-4422-b18e-91d90d6ff714",
   "metadata": {},
   "outputs": [
    {
     "data": {
      "text/plain": [
       "Parameter containing:\n",
       "tensor([[ 0.2254,  0.1553,  0.5132],\n",
       "        [-0.2180, -0.4014,  0.0298],\n",
       "        [-0.3472,  0.4954, -0.4684],\n",
       "        [-0.0492,  0.1083,  0.4056],\n",
       "        [-0.4402, -0.3269, -0.4383]], requires_grad=True)"
      ]
     },
     "execution_count": 46,
     "metadata": {},
     "output_type": "execute_result"
    }
   ],
   "source": [
    "m.weight"
   ]
  },
  {
   "cell_type": "code",
   "execution_count": 47,
   "id": "2e7cfb01-c776-452e-850d-5464b743a3f0",
   "metadata": {},
   "outputs": [
    {
     "data": {
      "text/plain": [
       "tensor([[[ 0.1954,  0.5282,  0.6225],\n",
       "         [ 0.1954,  0.5282,  0.6225],\n",
       "         [ 1.0196,  0.8855,  0.9625],\n",
       "         [ 0.4920, -0.3205, -0.4694],\n",
       "         [ 2.7847, -0.7034,  0.3286],\n",
       "         [-0.6364,  1.5823, -0.6974],\n",
       "         [ 0.7163, -2.5230, -1.0391]]])"
      ]
     },
     "execution_count": 47,
     "metadata": {},
     "output_type": "execute_result"
    }
   ],
   "source": [
    "t"
   ]
  },
  {
   "cell_type": "code",
   "execution_count": 43,
   "id": "7658e8b8-7343-496d-8855-667634f5c828",
   "metadata": {},
   "outputs": [
    {
     "data": {
      "text/plain": [
       "tensor([[[-1.2686, -0.0256,  0.8412,  0.5502,  0.0189],\n",
       "         [-1.2686, -0.0256,  0.8412,  0.5502,  0.0189],\n",
       "         [-1.0182,  0.0411,  0.0860,  0.5227,  0.4728],\n",
       "         [ 0.5613,  0.5726, -0.6034, -0.3849,  0.4606],\n",
       "         [-1.2339,  1.2220,  1.1933, -0.6740, -0.8359],\n",
       "         [ 0.7820,  1.0854,  0.0727, -1.0384, -0.2889],\n",
       "         [-0.7914,  0.1989,  0.4601,  0.2434,  0.1039],\n",
       "         [-1.1928,  0.4442,  0.3060,  0.1719,  0.1502],\n",
       "         [-0.5270,  0.2988, -0.3139,  0.1834,  0.5527],\n",
       "         [-1.0877,  1.9598,  0.3778, -1.2810, -0.6510]]],\n",
       "       grad_fn=<ViewBackward0>)"
      ]
     },
     "execution_count": 43,
     "metadata": {},
     "output_type": "execute_result"
    }
   ],
   "source": [
    "m(t)"
   ]
  },
  {
   "cell_type": "code",
   "execution_count": 169,
   "id": "d94d8be3-3888-469d-8931-9998ff12f8a7",
   "metadata": {},
   "outputs": [],
   "source": [
    "q = torch.randn(1, 7, 4)\n",
    "k = torch.randn(1, 10, 5)\n",
    "v = torch.randn(1, 10, 6)"
   ]
  },
  {
   "cell_type": "code",
   "execution_count": 170,
   "id": "077ab76c-f5db-40bf-96ed-be102605cd2e",
   "metadata": {},
   "outputs": [],
   "source": [
    "mha = torch.nn.MultiheadAttention(\n",
    "    embed_dim=4, \n",
    "    num_heads=2, \n",
    "    dropout=0.0, \n",
    "    bias=True, \n",
    "    add_bias_kv=False, \n",
    "    add_zero_attn=False, \n",
    "    kdim=5, \n",
    "    vdim=6, \n",
    "    batch_first=True, \n",
    "    device=None, \n",
    "    dtype=None\n",
    ")"
   ]
  },
  {
   "cell_type": "code",
   "execution_count": 171,
   "id": "37b51c88-26ee-4d97-b979-448e2296a736",
   "metadata": {},
   "outputs": [],
   "source": [
    "key_padding_mask = torch.tensor([[False, True, True, True, True, True, True, True, True, True]])\n",
    "attn_output, attn_output_weights = mha(q, k, v, key_padding_mask=key_padding_mask)"
   ]
  },
  {
   "cell_type": "code",
   "execution_count": 172,
   "id": "f184b579-8f8f-459d-ac88-4025b237fb07",
   "metadata": {},
   "outputs": [
    {
     "data": {
      "text/plain": [
       "(tensor([[[-1.1546,  0.1890, -1.1885, -1.3223],\n",
       "          [-1.1546,  0.1890, -1.1885, -1.3223],\n",
       "          [-1.1546,  0.1890, -1.1885, -1.3223],\n",
       "          [-1.1546,  0.1890, -1.1885, -1.3223],\n",
       "          [-1.1546,  0.1890, -1.1885, -1.3223],\n",
       "          [-1.1546,  0.1890, -1.1885, -1.3223],\n",
       "          [-1.1546,  0.1890, -1.1885, -1.3223]]], grad_fn=<TransposeBackward0>),\n",
       " torch.Size([1, 7, 4]))"
      ]
     },
     "execution_count": 172,
     "metadata": {},
     "output_type": "execute_result"
    }
   ],
   "source": [
    "attn_output, attn_output.size()"
   ]
  },
  {
   "cell_type": "code",
   "execution_count": 162,
   "id": "d89c04b9-6445-493f-a2a9-b27889abf82b",
   "metadata": {},
   "outputs": [
    {
     "data": {
      "text/plain": [
       "tensor([[[ 0.0486, -0.6342, -1.4413, -1.5537],\n",
       "         [-1.5929,  0.2420, -0.6904, -0.3219],\n",
       "         [-0.2475,  1.7527,  1.1416, -0.6094],\n",
       "         [-0.7674,  0.9008, -0.1188,  0.4237],\n",
       "         [-1.1797,  0.3144,  1.3335,  0.2820],\n",
       "         [-0.9853,  0.2039, -2.4896,  0.0520],\n",
       "         [ 0.9821, -0.1935, -0.2306,  0.4600]]])"
      ]
     },
     "execution_count": 162,
     "metadata": {},
     "output_type": "execute_result"
    }
   ],
   "source": [
    "q"
   ]
  },
  {
   "cell_type": "code",
   "execution_count": 137,
   "id": "6861c807-79a7-486f-a203-1f863d62dd9c",
   "metadata": {},
   "outputs": [
    {
     "data": {
      "text/plain": [
       "torch.Size([1, 10, 7])"
      ]
     },
     "execution_count": 137,
     "metadata": {},
     "output_type": "execute_result"
    }
   ],
   "source": [
    "attn_output_weights.size()"
   ]
  },
  {
   "cell_type": "code",
   "execution_count": 125,
   "id": "cc854527-57e4-4af6-ad67-8d49f270a020",
   "metadata": {},
   "outputs": [
    {
     "data": {
      "text/plain": [
       "Parameter containing:\n",
       "tensor([[-0.5215,  0.3591, -0.1606, -0.3773],\n",
       "        [ 0.0117,  0.0540,  0.5056, -0.4940],\n",
       "        [ 0.8076, -0.5054,  0.3916, -0.1781],\n",
       "        [ 0.4067, -0.3117, -0.7222,  0.6166]], requires_grad=True)"
      ]
     },
     "execution_count": 125,
     "metadata": {},
     "output_type": "execute_result"
    }
   ],
   "source": [
    "mha.q_proj_weight"
   ]
  },
  {
   "cell_type": "code",
   "execution_count": 126,
   "id": "1db9d044-9f93-49df-8462-a3244e77403f",
   "metadata": {},
   "outputs": [
    {
     "data": {
      "text/plain": [
       "Parameter containing:\n",
       "tensor([[-7.4075e-01,  2.7383e-02,  3.3585e-01,  6.1743e-01,  5.2101e-01],\n",
       "        [ 1.3673e-04, -8.0710e-01,  6.5254e-01,  2.0762e-01,  4.6144e-01],\n",
       "        [-8.1145e-01,  7.8739e-01,  7.2257e-01,  6.5952e-02,  3.3717e-01],\n",
       "        [ 7.9695e-01,  1.3206e-01, -6.0681e-01,  8.8172e-02,  7.2054e-01]],\n",
       "       requires_grad=True)"
      ]
     },
     "execution_count": 126,
     "metadata": {},
     "output_type": "execute_result"
    }
   ],
   "source": [
    "mha.k_proj_weight"
   ]
  },
  {
   "cell_type": "code",
   "execution_count": 129,
   "id": "da0d4a41-8ead-4ddb-8287-a3a9f6d9296d",
   "metadata": {},
   "outputs": [
    {
     "data": {
      "text/plain": [
       "Parameter containing:\n",
       "tensor([[ 0.7285, -0.6278, -0.1503, -0.1630, -0.1751, -0.7286],\n",
       "        [ 0.3590, -0.1418, -0.2774, -0.2966,  0.0678,  0.1418],\n",
       "        [-0.2482, -0.4547, -0.0364, -0.6998,  0.4701,  0.1494],\n",
       "        [ 0.5341, -0.0446,  0.6826, -0.1015, -0.2243,  0.6125]],\n",
       "       requires_grad=True)"
      ]
     },
     "execution_count": 129,
     "metadata": {},
     "output_type": "execute_result"
    }
   ],
   "source": [
    "mha.v_proj_weight"
   ]
  },
  {
   "cell_type": "code",
   "execution_count": 132,
   "id": "8d364402-a73c-4224-aab5-22ef851441f6",
   "metadata": {},
   "outputs": [
    {
     "data": {
      "text/plain": [
       "(2, 2)"
      ]
     },
     "execution_count": 132,
     "metadata": {},
     "output_type": "execute_result"
    }
   ],
   "source": [
    "mha.head_dim, mha.num_heads"
   ]
  },
  {
   "cell_type": "code",
   "execution_count": 16,
   "id": "41cf3660-2c8a-48a8-a0c4-f82c04b08fd0",
   "metadata": {},
   "outputs": [
    {
     "data": {
      "text/plain": [
       "torch.Size([1, 7, 4])"
      ]
     },
     "execution_count": 16,
     "metadata": {},
     "output_type": "execute_result"
    }
   ],
   "source": [
    "torch.randn(7, 4).unsqueeze(0).size()"
   ]
  },
  {
   "cell_type": "code",
   "execution_count": 203,
   "id": "18b105b4-fb79-451c-8cb4-25761a5dab00",
   "metadata": {},
   "outputs": [],
   "source": []
  },
  {
   "cell_type": "code",
   "execution_count": 216,
   "id": "2009eea8-0497-4ba7-a424-642b3cc7570b",
   "metadata": {},
   "outputs": [],
   "source": [
    "multi_head_attention = MultiHeadAttention(n_head=5, d_model=5, d_k=5, d_v=6)"
   ]
  },
  {
   "cell_type": "code",
   "execution_count": 217,
   "id": "69acfd01-d617-48ef-9832-5b1fa9acf556",
   "metadata": {},
   "outputs": [
    {
     "data": {
      "text/plain": [
       "tensor([[[ 0.5455, -0.7632, -0.3622,  1.6721, -1.0922],\n",
       "         [ 1.3012, -1.4202, -0.5786, -0.2478,  0.9454],\n",
       "         [ 0.0426, -0.3696,  1.1598,  0.8425, -1.6753],\n",
       "         [ 1.6201,  0.0351, -0.1981, -1.5265,  0.0694],\n",
       "         [-1.4236, -0.7666,  1.2259,  0.0251,  0.9393],\n",
       "         [-1.7280,  1.3086, -0.2614,  0.3695,  0.3112],\n",
       "         [ 1.0404,  0.4389,  0.8355, -1.5745, -0.7402]]],\n",
       "       grad_fn=<NativeLayerNormBackward0>)"
      ]
     },
     "execution_count": 217,
     "metadata": {},
     "output_type": "execute_result"
    }
   ],
   "source": [
    "q = torch.randn(1, 7, 5)\n",
    "k = torch.randn(1, 10, 5)\n",
    "v = torch.randn(1, 10, 5)\n",
    "\n",
    "o, w = multi_head_attention(q, k, v)\n",
    "o"
   ]
  },
  {
   "cell_type": "code",
   "execution_count": 218,
   "id": "f15485d9-1d51-417c-a5bd-8078508a0c18",
   "metadata": {},
   "outputs": [
    {
     "data": {
      "text/plain": [
       "tensor([[[-0.4014,  1.8224, -0.3020,  1.5385, -0.8151, -0.5202,  1.3501],\n",
       "         [-0.7472, -1.3870, -0.5662,  0.2226, -0.3619,  1.5350,  0.8623],\n",
       "         [-0.8376, -0.4755,  0.6338, -0.2226,  0.2657,  0.4583,  1.0264],\n",
       "         [ 0.0283,  0.0478,  0.4421, -1.3932, -0.1969,  0.9932, -1.6617],\n",
       "         [-1.1351,  1.3394, -2.0995,  0.0468,  0.0636,  0.5746, -0.7659]]])"
      ]
     },
     "execution_count": 218,
     "metadata": {},
     "output_type": "execute_result"
    }
   ],
   "source": [
    "q.transpose(1, 2)"
   ]
  },
  {
   "cell_type": "code",
   "execution_count": 288,
   "id": "5dd61e4b-2301-44c8-9184-9d268c5f608d",
   "metadata": {},
   "outputs": [
    {
     "data": {
      "text/plain": [
       "torch.Size([1, 7, 5])"
      ]
     },
     "execution_count": 288,
     "metadata": {},
     "output_type": "execute_result"
    }
   ],
   "source": [
    "q = torch.ones(1, 7, 5)\n",
    "q.size()"
   ]
  },
  {
   "cell_type": "code",
   "execution_count": 305,
   "id": "14e68869-95b1-4e94-b304-e62d3d5ca601",
   "metadata": {},
   "outputs": [
    {
     "data": {
      "text/plain": [
       "tensor([[7., 7., 7., 7., 7.]])"
      ]
     },
     "execution_count": 305,
     "metadata": {},
     "output_type": "execute_result"
    }
   ],
   "source": [
    "qs = torch.sum(q, dim=1)\n",
    "qs"
   ]
  },
  {
   "cell_type": "code",
   "execution_count": 306,
   "id": "3eb0ea1f-7ed2-419d-aa0b-6f6ebc4f07a9",
   "metadata": {},
   "outputs": [
    {
     "data": {
      "text/plain": [
       "torch.Size([1, 5])"
      ]
     },
     "execution_count": 306,
     "metadata": {},
     "output_type": "execute_result"
    }
   ],
   "source": [
    "qs.size()"
   ]
  },
  {
   "cell_type": "code",
   "execution_count": null,
   "id": "4c0f40d9-9945-46d0-b70a-05646d52d370",
   "metadata": {},
   "outputs": [],
   "source": []
  },
  {
   "cell_type": "code",
   "execution_count": 206,
   "id": "42d8e84d-9b88-4cb0-88f7-0a597f29a5c0",
   "metadata": {},
   "outputs": [
    {
     "data": {
      "text/plain": [
       "torch.Size([1, 4, 5])"
      ]
     },
     "execution_count": 206,
     "metadata": {},
     "output_type": "execute_result"
    }
   ],
   "source": [
    "b = 1\n",
    "torch.randn(b, 20).reshape(b, -1, 5).shape"
   ]
  },
  {
   "cell_type": "code",
   "execution_count": 28,
   "id": "1ec87a9d-2b14-4d96-b239-56f4bba62dfa",
   "metadata": {},
   "outputs": [],
   "source": [
    "a = np.random.randn(3,2)"
   ]
  },
  {
   "cell_type": "code",
   "execution_count": 29,
   "id": "5cd31360-cadd-4338-9de1-2b4e460e1661",
   "metadata": {},
   "outputs": [
    {
     "data": {
      "text/plain": [
       "array([[-0.92947875,  0.47879346],\n",
       "       [-0.58901468, -0.39128145],\n",
       "       [-0.25312205, -0.57494672]])"
      ]
     },
     "execution_count": 29,
     "metadata": {},
     "output_type": "execute_result"
    }
   ],
   "source": [
    "a"
   ]
  },
  {
   "cell_type": "code",
   "execution_count": 30,
   "id": "bb459b99-398f-415e-99f6-4fd846705f8a",
   "metadata": {},
   "outputs": [
    {
     "data": {
      "text/plain": [
       "array([-0.92947875,  0.47879346, -0.58901468, -0.39128145, -0.25312205,\n",
       "       -0.57494672])"
      ]
     },
     "execution_count": 30,
     "metadata": {},
     "output_type": "execute_result"
    }
   ],
   "source": [
    "a.reshape(-1)"
   ]
  },
  {
   "cell_type": "code",
   "execution_count": 31,
   "id": "a522290c-5874-44ec-b786-ebc13c9ba202",
   "metadata": {},
   "outputs": [
    {
     "data": {
      "text/plain": [
       "array([[-0.92947875,  0.47879346],\n",
       "       [-0.58901468, -0.39128145],\n",
       "       [-0.25312205, -0.57494672]])"
      ]
     },
     "execution_count": 31,
     "metadata": {},
     "output_type": "execute_result"
    }
   ],
   "source": [
    "a.reshape(3,2)"
   ]
  },
  {
   "cell_type": "code",
   "execution_count": 213,
   "id": "6ee57d84-f381-4e55-b7a4-c59431104a58",
   "metadata": {},
   "outputs": [
    {
     "name": "stdout",
     "output_type": "stream",
     "text": [
      "[\"Hello\",\"friend\"]\n"
     ]
    },
    {
     "data": {
      "text/plain": [
       "0"
      ]
     },
     "execution_count": 213,
     "metadata": {},
     "output_type": "execute_result"
    }
   ],
   "source": [
    "import os\n",
    "\n",
    "command = \"soroban contract invoke --wasm ./soroban/dyet-test/target/wasm32-unknown-unknown/release/dyet_test.wasm --id 1 --fn hello -- --to friend\"\n",
    "os.system(command)"
   ]
  },
  {
   "cell_type": "code",
   "execution_count": 10,
   "id": "eb9643c8-a903-47c0-bf81-a5c97a74d01e",
   "metadata": {},
   "outputs": [],
   "source": [
    "def contract_init(num_functions, features):\n",
    "    wasm_path = \"./soroban/dyet-test/target/wasm32-unknown-unknown/release/dyet_test.wasm\"\n",
    "    vec = \",\".join([f'{{\"u32\": {f} }}' for f in features])\n",
    "    fs = f'{{ \"object\": {{ \"vec\": [{vec}] }} }}'\n",
    "    command_init = f\"soroban contract invoke --wasm {wasm_path} --id 1 --fn init -- --num_fns {num_functions} --features '{fs}'\"\n",
    "    print(command_init)\n",
    "    return os.system(command_init)\n",
    "\n",
    "def contract_call(fn_i, arg):\n",
    "    wasm_path = \"./soroban/dyet-test/target/wasm32-unknown-unknown/release/dyet_test.wasm\"\n",
    "    command_call = f\"soroban contract invoke --wasm {wasm_path} --id 1 --fn call -- --fn_i {fn_i} --arg {arg}\"\n",
    "    return os.popen(command_call).read()\n",
    "    #return os.system(command_call)"
   ]
  },
  {
   "cell_type": "code",
   "execution_count": 11,
   "id": "14cb3e6f-80da-42b5-a1c4-9a5e91b2f31d",
   "metadata": {},
   "outputs": [
    {
     "name": "stdout",
     "output_type": "stream",
     "text": [
      "/Users/matus/Documents/DYET\n"
     ]
    }
   ],
   "source": [
    "!pwd"
   ]
  },
  {
   "cell_type": "code",
   "execution_count": 12,
   "id": "ac66c969-0533-42b4-846e-ef3553148740",
   "metadata": {},
   "outputs": [
    {
     "name": "stdout",
     "output_type": "stream",
     "text": [
      "soroban contract invoke --wasm ./soroban/dyet-test/target/wasm32-unknown-unknown/release/dyet_test.wasm --id 1 --fn init -- --num_fns 3 --features '{ \"object\": { \"vec\": [{\"u32\": 0 },{\"u32\": 1 },{\"u32\": 2 },{\"u32\": 3 },{\"u32\": 4 },{\"u32\": 5 }] } }'\n",
      "[3,[0,1,2,3,4,5],[0,0,0,0,0,0]]\n"
     ]
    },
    {
     "data": {
      "text/plain": [
       "0"
      ]
     },
     "execution_count": 12,
     "metadata": {},
     "output_type": "execute_result"
    }
   ],
   "source": [
    "contract_init(3, [0,1,2,3,4,5])"
   ]
  },
  {
   "cell_type": "code",
   "execution_count": 15,
   "id": "4e655b53-aabe-4e7e-a632-83c03e716f2c",
   "metadata": {},
   "outputs": [
    {
     "name": "stdout",
     "output_type": "stream",
     "text": [
      "55.6 ms ± 416 µs per loop (mean ± std. dev. of 7 runs, 10 loops each)\n"
     ]
    }
   ],
   "source": [
    "%%timeit\n",
    "res = contract_call(5, 5)"
   ]
  },
  {
   "cell_type": "code",
   "execution_count": 258,
   "id": "7ba043ad-0166-4294-a635-88480085330d",
   "metadata": {},
   "outputs": [
    {
     "data": {
      "text/plain": [
       "[1, 1, 1, 1, 1, 1]"
      ]
     },
     "execution_count": 258,
     "metadata": {},
     "output_type": "execute_result"
    }
   ],
   "source": [
    "import json\n",
    "fn_i, arg, num_fns, features, coverage = json.loads(res)\n",
    "coverage"
   ]
  },
  {
   "cell_type": "code",
   "execution_count": 62,
   "id": "4824c7bc-3da4-4450-a1b4-5895e0d7db8b",
   "metadata": {},
   "outputs": [
    {
     "name": "stdout",
     "output_type": "stream",
     "text": [
      "events.json ledger.json\n"
     ]
    }
   ],
   "source": [
    "!ls -A .soroban"
   ]
  },
  {
   "cell_type": "code",
   "execution_count": 126,
   "id": "66eafd18-0e75-42d9-849b-be98c0dd6226",
   "metadata": {},
   "outputs": [
    {
     "ename": "RuntimeError",
     "evalue": "Error while importing \"l\".\"_\": unknown import. Expected Function(FunctionType { params: [I64, I64], results: [I64] })",
     "output_type": "error",
     "traceback": [
      "\u001b[0;31m---------------------------------------------------------------------------\u001b[0m",
      "\u001b[0;31mRuntimeError\u001b[0m                              Traceback (most recent call last)",
      "Input \u001b[0;32mIn [126]\u001b[0m, in \u001b[0;36m<cell line: 13>\u001b[0;34m()\u001b[0m\n\u001b[1;32m     10\u001b[0m \u001b[38;5;66;03m# Let's compile the Wasm module, as usual.\u001b[39;00m\n\u001b[1;32m     11\u001b[0m module \u001b[38;5;241m=\u001b[39m Module(store, wasm_bytes)\n\u001b[0;32m---> 13\u001b[0m instance \u001b[38;5;241m=\u001b[39m \u001b[43mInstance\u001b[49m\u001b[43m(\u001b[49m\u001b[43mmodule\u001b[49m\u001b[43m)\u001b[49m\n",
      "\u001b[0;31mRuntimeError\u001b[0m: Error while importing \"l\".\"_\": unknown import. Expected Function(FunctionType { params: [I64, I64], results: [I64] })"
     ]
    }
   ],
   "source": [
    "from wasmer import engine, wasi, Store, Module, ImportObject, Instance\n",
    "from wasmer_compiler_cranelift import Compiler\n",
    "import os\n",
    "\n",
    "wasm_bytes = open('./soroban/dyet-test/target/wasm32-unknown-unknown/release/dyet_test.wasm', 'rb').read()\n",
    "\n",
    "# Create a store.\n",
    "store = Store(engine.Universal(Compiler))\n",
    "\n",
    "# Let's compile the Wasm module, as usual.\n",
    "module = Module(store, wasm_bytes)\n",
    "\n",
    "instance = Instance(module)\n"
   ]
  },
  {
   "cell_type": "code",
   "execution_count": 56,
   "id": "09fbb320-21e6-4b61-bf9f-9b8afb7b6358",
   "metadata": {},
   "outputs": [],
   "source": [
    "import json"
   ]
  },
  {
   "cell_type": "code",
   "execution_count": null,
   "id": "c8d9282e-af44-4456-add6-82980fe18b32",
   "metadata": {},
   "outputs": [],
   "source": []
  },
  {
   "cell_type": "code",
   "execution_count": null,
   "id": "012d9dad-e6e0-45e8-a839-9d86c5cdd359",
   "metadata": {},
   "outputs": [],
   "source": []
  }
 ],
 "metadata": {
  "kernelspec": {
   "display_name": "Python 3 (ipykernel)",
   "language": "python",
   "name": "python3"
  },
  "language_info": {
   "codemirror_mode": {
    "name": "ipython",
    "version": 3
   },
   "file_extension": ".py",
   "mimetype": "text/x-python",
   "name": "python",
   "nbconvert_exporter": "python",
   "pygments_lexer": "ipython3",
   "version": "3.9.15"
  }
 },
 "nbformat": 4,
 "nbformat_minor": 5
}
