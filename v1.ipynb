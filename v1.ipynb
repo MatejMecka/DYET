{
 "cells": [
  {
   "cell_type": "code",
   "execution_count": 1,
   "id": "c88a99fb-5073-410e-86c8-40de0678c063",
   "metadata": {},
   "outputs": [
    {
     "name": "stderr",
     "output_type": "stream",
     "text": [
      "/Users/matus/venv/lib/python3.9/site-packages/tqdm/auto.py:22: TqdmWarning: IProgress not found. Please update jupyter and ipywidgets. See https://ipywidgets.readthedocs.io/en/stable/user_install.html\n",
      "  from .autonotebook import tqdm as notebook_tqdm\n"
     ]
    }
   ],
   "source": [
    "import os\n",
    "from typing import Callable, Dict, List, Optional, Tuple, Type, Union\n",
    "import numpy as np\n",
    "import matplotlib.pyplot as plt\n",
    "import gym\n",
    "from gym import spaces\n",
    "from gym.wrappers import FlattenObservation\n",
    "from stable_baselines3.common.env_checker import check_env\n",
    "from stable_baselines3 import PPO\n",
    "from stable_baselines3.ppo.policies import MlpPolicy\n",
    "from stable_baselines3.common.evaluation import evaluate_policy\n",
    "from stable_baselines3.common.monitor import Monitor\n",
    "from stable_baselines3.common.results_plotter import load_results, ts2xy\n",
    "from stable_baselines3.common.noise import NormalActionNoise\n",
    "from stable_baselines3.common.callbacks import BaseCallback\n",
    "from stable_baselines3.common import results_plotter\n",
    "from stable_baselines3.common.torch_layers import BaseFeaturesExtractor\n",
    "from stable_baselines3.common.policies import ActorCriticPolicy\n",
    "from stable_baselines3.common.distributions import DictDistribution\n",
    "\n",
    "import torch\n",
    "from torch import nn\n",
    "from torch.distributions import Categorical\n",
    "\n",
    "NUM_FUNCTIONS = 3\n",
    "MAX_INPUT = 10\n",
    "MAX_STEPS = 6\n",
    "\n",
    "class MyObservationWrapper(gym.ObservationWrapper):\n",
    "    def __init__(self, env):\n",
    "        super(MyObservationWrapper, self).__init__(env)\n",
    "        self.observation_space = spaces.MultiDiscrete([2 for _ in range(6)] + [MAX_INPUT for _ in range(6)])\n",
    "            \n",
    "    def reverse_observation(self, observation):\n",
    "        return {\n",
    "            \"points\": observation[:7],\n",
    "            \"features\": observation[7:]\n",
    "        }\n",
    "    \n",
    "    def observation(self, observation):\n",
    "        return np.concatenate((observation[\"points\"], observation[\"features\"]), axis=0)\n",
    "    \n",
    "# class MyActionWrapper(gym.ActionWrapper):\n",
    "#     def __init__(self, env):\n",
    "#         super(MyActionWrapper, self).__init__(env)\n",
    "        \n",
    "#         fn_low = np.full((NUM_FUNCTIONS,), -10.0)\n",
    "#         fn_high = np.full((NUM_FUNCTIONS,), 10.0)\n",
    "        \n",
    "#         inputs_low = np.full((1,), 0.0)\n",
    "#         inputs_high = np.full((1,), MAX_INPUT)\n",
    "        \n",
    "#         self.action_space = spaces.Box(\n",
    "#             low=np.concatenate((fn_low, inputs_low), axis=0), \n",
    "#             high=np.concatenate((fn_high, inputs_high), axis=0),\n",
    "#             dtype=np.float32\n",
    "#         )\n",
    "        \n",
    "#         latent_dim = NUM_FUNCTIONS\n",
    "#         self.fn_net = nn.Linear(latent_dim, NUM_FUNCTIONS)\n",
    "        \n",
    "#     def action(self, action):\n",
    "#         #print(\"action:\", action)\n",
    "#         #print(\"action.size()\", len(action))\n",
    "#         #print(self.fn_net.weight)\n",
    "#         fn_logits = torch.tensor(action[:NUM_FUNCTIONS]) #self.fn_net(torch.tensor(action[:NUM_FUNCTIONS]))\n",
    "#         #print(\"fn_logits:\", fn_logits)\n",
    "#         #fn_index = Categorical(logits=fn_logits).sample().item()\n",
    "        \n",
    "#         fn_index = torch.argmax(Categorical(logits=fn_logits).probs).item()\n",
    "#         inputs = action[NUM_FUNCTIONS:]\n",
    "        \n",
    "#         #input_logits = torch.tensor(action[NUM_FUNCTIONS:])\n",
    "#         #input_index = Categorical(logits=input_logits).sample().item()\n",
    "        \n",
    "#         res = {\n",
    "#             \"function\": fn_index,\n",
    "#             \"input\": round(inputs[0])\n",
    "#         }\n",
    "        \n",
    "#         return res\n",
    "\n",
    "#     def reverse_action(self, action):\n",
    "#         fn_one_hot = np.zeros(NUM_FUNCTIONS)\n",
    "#         fn_i = action[\"function\"]\n",
    "#         fn_one_hot[fn_i] = 1.0\n",
    "        \n",
    "#         inputs = np.array([action[\"input\"],], dtype=np.float32)\n",
    "#         #input_one_hot = np.zeros(MAX_INPUT)\n",
    "#         #input_i = action[\"input\"]\n",
    "#         #input_one_hot[input_i] = 1.0\n",
    "        \n",
    "#         res = np.concatenate((fn_one_hot, inputs), axis=0)\n",
    "#         return res\n",
    "    \n",
    "class SaveOnBestTrainingRewardCallback(BaseCallback):\n",
    "    \"\"\"\n",
    "    Callback for saving a model (the check is done every ``check_freq`` steps)\n",
    "    based on the training reward (in practice, we recommend using ``EvalCallback``).\n",
    "\n",
    "    :param check_freq: (int)\n",
    "    :param log_dir: (str) Path to the folder where the model will be saved.\n",
    "      It must contains the file created by the ``Monitor`` wrapper.\n",
    "    :param verbose: (int)\n",
    "    \"\"\"\n",
    "    def __init__(self, check_freq: int, log_dir: str, verbose=1):\n",
    "        super(SaveOnBestTrainingRewardCallback, self).__init__(verbose)\n",
    "        self.check_freq = check_freq\n",
    "        self.log_dir = log_dir\n",
    "        self.save_path = os.path.join(log_dir, 'best_model')\n",
    "        self.best_mean_reward = -np.inf\n",
    "\n",
    "    def _init_callback(self) -> None:\n",
    "        # Create folder if needed\n",
    "        if self.save_path is not None:\n",
    "            os.makedirs(self.save_path, exist_ok=True)\n",
    "\n",
    "    def _on_step(self) -> bool:\n",
    "        if self.n_calls % self.check_freq == 0:\n",
    "\n",
    "            # Retrieve training reward\n",
    "            x, y = ts2xy(load_results(self.log_dir), 'timesteps')\n",
    "            if len(x) > 0:\n",
    "                # Mean training reward over the last 100 episodes\n",
    "                mean_reward = np.mean(y[-100:])\n",
    "                if self.verbose > 0:\n",
    "                    print(f\"Num timesteps: {self.num_timesteps}\")\n",
    "                    print(f\"Best mean reward: {self.best_mean_reward:.2f} - Last mean reward per episode: {mean_reward:.2f}\")\n",
    "\n",
    "                # New best model, you could save the agent here\n",
    "                if mean_reward > self.best_mean_reward:\n",
    "                    self.best_mean_reward = mean_reward\n",
    "                    # Example for saving best model\n",
    "                    if self.verbose > 0:\n",
    "                        print(f\"Saving new best model to {self.save_path}.zip\")\n",
    "                    self.model.save(self.save_path)\n",
    "\n",
    "        return True\n"
   ]
  },
  {
   "cell_type": "code",
   "execution_count": 8,
   "id": "498048a8-2abe-4b60-97cf-c9c57464762e",
   "metadata": {},
   "outputs": [],
   "source": [
    "from stable_baselines3.common.preprocessing import get_flattened_obs_dim\n",
    "class MyFlattenExtractor(BaseFeaturesExtractor):\n",
    "    \"\"\"\n",
    "    Feature extract that flatten the input.\n",
    "    Used as a placeholder when feature extraction is not needed.\n",
    "\n",
    "    :param observation_space:\n",
    "    \"\"\"\n",
    "\n",
    "    def __init__(self, observation_space: gym.Space):\n",
    "        super().__init__(observation_space, get_flattened_obs_dim(observation_space))\n",
    "        self.flatten = nn.Flatten()\n",
    "\n",
    "    def forward(self, observations: torch.Tensor) -> torch.Tensor:\n",
    "        return self.flatten(observations)\n",
    "    \n",
    "class CustomNetwork(nn.Module):\n",
    "    \"\"\"\n",
    "    Custom network for policy and value function.\n",
    "    It receives as input the features extracted by the feature extractor.\n",
    "\n",
    "    :param feature_dim: dimension of the features extracted with the features_extractor (e.g. features from a CNN)\n",
    "    :param last_layer_dim_pi: (int) number of units for the last layer of the policy network\n",
    "    :param last_layer_dim_vf: (int) number of units for the last layer of the value network\n",
    "    \"\"\"\n",
    "\n",
    "    def __init__(\n",
    "        self,\n",
    "        feature_dim: int,\n",
    "        last_layer_dim_pi: int = 64,\n",
    "        last_layer_dim_vf: int = 64,\n",
    "    ):\n",
    "        super(CustomNetwork, self).__init__()\n",
    "\n",
    "        # IMPORTANT:\n",
    "        # Save output dimensions, used to create the distributions\n",
    "        self.latent_dim_pi = last_layer_dim_pi\n",
    "        self.latent_dim_vf = last_layer_dim_vf\n",
    "\n",
    "        # Policy network\n",
    "        self.policy_net = nn.Sequential(\n",
    "            nn.Linear(feature_dim, last_layer_dim_pi), nn.ReLU(),\n",
    "            nn.Linear(last_layer_dim_pi, last_layer_dim_pi), nn.ReLU()\n",
    "        )\n",
    "        # Value network\n",
    "        self.value_net = nn.Sequential(\n",
    "            nn.Linear(feature_dim, last_layer_dim_vf), nn.ReLU(),\n",
    "            nn.Linear(last_layer_dim_vf, last_layer_dim_vf), nn.ReLU()\n",
    "        )\n",
    "\n",
    "    def forward(self, features: torch.Tensor) -> Tuple[torch.Tensor, torch.Tensor]:\n",
    "        \"\"\"\n",
    "        :return: (th.Tensor, th.Tensor) latent_policy, latent_value of the specified network.\n",
    "            If all layers are shared, then ``latent_policy == latent_value``\n",
    "        \"\"\"\n",
    "        #print(\"features:\", features)\n",
    "        #print(\"features.size():\", features.size())\n",
    "        return self.policy_net(features), self.value_net(features)\n",
    "\n",
    "    def forward_actor(self, features: torch.Tensor) -> torch.Tensor:\n",
    "        return self.policy_net(features)\n",
    "\n",
    "    def forward_critic(self, features: torch.Tensor) -> torch.Tensor:\n",
    "        return self.value_net(features)\n",
    "\n",
    "\n",
    "class CustomActorCriticPolicy(ActorCriticPolicy):\n",
    "    def __init__(\n",
    "        self,\n",
    "        observation_space: gym.spaces.Space,\n",
    "        action_space: gym.spaces.Space,\n",
    "        lr_schedule: Callable[[float], float],\n",
    "        net_arch: Optional[List[Union[int, Dict[str, List[int]]]]] = None,\n",
    "        activation_fn: Type[nn.Module] = nn.Tanh,\n",
    "        *args,\n",
    "        **kwargs,\n",
    "    ):\n",
    "\n",
    "        super(CustomActorCriticPolicy, self).__init__(\n",
    "            observation_space,\n",
    "            action_space,\n",
    "            lr_schedule,\n",
    "            net_arch,\n",
    "            activation_fn,\n",
    "            # Pass remaining arguments to base class\n",
    "            *args,\n",
    "            **kwargs,\n",
    "        )\n",
    "        # Disable orthogonal initialization\n",
    "        self.ortho_init = False\n",
    "\n",
    "    def _build_mlp_extractor(self) -> None:\n",
    "        self.mlp_extractor = CustomNetwork(self.features_dim)"
   ]
  },
  {
   "cell_type": "code",
   "execution_count": 9,
   "id": "01bfe6c9-8c45-44d5-b72c-1df7829ac8d7",
   "metadata": {},
   "outputs": [],
   "source": [
    "class DummyContract:\n",
    "    def __init__(self, features):\n",
    "        self.points = [0 for i in range(6)] #coverage\n",
    "        self.features = features\n",
    "        \n",
    "    def fn0(self, x):\n",
    "        if x <= self.features[0]:\n",
    "            self.points[0] = 1\n",
    "        \n",
    "        if x >= self.features[1]:\n",
    "            self.points[1] = 1\n",
    "    \n",
    "    def fn1(self, x):\n",
    "        if x <= self.features[2]:\n",
    "            self.points[2] = 1\n",
    "        \n",
    "        if x >= self.features[3]:\n",
    "            self.points[3] = 1\n",
    "    \n",
    "    def fn2(self, x):\n",
    "        if x <= self.features[4]:\n",
    "            self.points[4] = 1\n",
    "        \n",
    "        if x >= self.features[5]:\n",
    "            self.points[5] = 1\n",
    "\n",
    "class MyEnv(gym.Env):\n",
    "    \n",
    "    def __init__(self):\n",
    "        super(MyEnv, self).__init__()\n",
    "        self.contract = None\n",
    "        self.num_steps = None\n",
    "        \n",
    "        self.observation_space = spaces.Dict({\n",
    "            \"points\": spaces.MultiBinary(6), \n",
    "            \"features\": spaces.MultiDiscrete([MAX_INPUT for _ in range(6)])\n",
    "        })\n",
    "        \n",
    "        self.action_space = spaces.Dict({\n",
    "            \"function\": spaces.Discrete(3), \n",
    "            \"input\":  spaces.Discrete(MAX_INPUT) #spaces.Box(low=0.0, high=MAX_INPUT, shape=(1,)) #spaces.Discrete(MAX_INPUT)\n",
    "        })\n",
    "        \n",
    "    def reset(self):\n",
    "        features = spaces.MultiDiscrete([MAX_INPUT for _ in range(6)]).sample().tolist()\n",
    "        self.contract = DummyContract(features)\n",
    "        self.num_steps = 0\n",
    "        \n",
    "        observation = {\n",
    "            \"points\": np.array(self.contract.points, dtype=np.int8), \n",
    "            \"features\": np.array(self.contract.features)\n",
    "        }\n",
    "        return observation\n",
    "    \n",
    "    def step(self, action):\n",
    "        self.num_steps += 1\n",
    "        fn_index, fn_input = action[\"function\"], action[\"input\"]\n",
    "        \n",
    "        prev_score = sum(self.contract.points)\n",
    "\n",
    "        if fn_index == 0:\n",
    "            self.contract.fn0(fn_input)\n",
    "        \n",
    "        elif fn_index == 1:\n",
    "            self.contract.fn1(fn_input)\n",
    "            \n",
    "        elif fn_index == 2:\n",
    "            self.contract.fn2(fn_input)\n",
    "            \n",
    "        score = sum(self.contract.points)\n",
    "        reward = score - prev_score\n",
    "        \n",
    "        reward = -1 if reward == 0 else reward\n",
    "        \n",
    "        info = {}\n",
    "        \n",
    "        done = self.num_steps == MAX_STEPS or score == 6\n",
    "        \n",
    "        #observation = np.array(self.contract.points).astype(np.int8)\n",
    "        observation = {\n",
    "            \"points\": np.array(self.contract.points, dtype=np.int8), \n",
    "            \"features\": np.array(self.contract.features)\n",
    "        }\n",
    "\n",
    "        return observation, reward, done, info\n",
    "        \n",
    "    def render(self, mode='console'):        \n",
    "        raise NotImplementedError()\n",
    "\n",
    "    def close(self):\n",
    "        pass\n",
    "\n",
    "env = MyEnv()\n",
    "# If the environment don't follow the interface, an error will be thrown\n",
    "check_env(env, warn=True)"
   ]
  },
  {
   "cell_type": "code",
   "execution_count": 10,
   "id": "518ecde4-47fb-4d60-b59c-d11fd63206f3",
   "metadata": {},
   "outputs": [],
   "source": [
    "log_dir = \"./tmp/gym/\"\n",
    "os.makedirs(log_dir, exist_ok=True)\n",
    "\n",
    "env = MyObservationWrapper(MyEnv())\n",
    "env = Monitor(env, log_dir)\n",
    "\n",
    "policy_kwargs = dict(\n",
    "    #activation_fn=nn.ReLU\n",
    "    features_extractor_class=MyFlattenExtractor,\n",
    "    #features_extractor_kwargs=dict(features_dim=128),\n",
    ")\n",
    "\n",
    "#policy_kwargs = dict(net_arch=[64, 64])\n",
    "\n",
    "#model = PPO(MlpPolicy, env, verbose=0, policy_kwargs=policy_kwargs)#, policy_kwargs=policy_kwargs)\n",
    "model = PPO(CustomActorCriticPolicy, env, verbose=0, policy_kwargs=policy_kwargs)\n",
    "\n",
    "callback = SaveOnBestTrainingRewardCallback(check_freq=10000, log_dir=log_dir)"
   ]
  },
  {
   "cell_type": "code",
   "execution_count": 11,
   "id": "e99f9ab2-be26-407c-9d89-4b77dc379727",
   "metadata": {},
   "outputs": [
    {
     "data": {
      "text/plain": [
       "CustomNetwork(\n",
       "  (policy_net): Sequential(\n",
       "    (0): Linear(in_features=72, out_features=64, bias=True)\n",
       "    (1): ReLU()\n",
       "    (2): Linear(in_features=64, out_features=64, bias=True)\n",
       "    (3): ReLU()\n",
       "  )\n",
       "  (value_net): Sequential(\n",
       "    (0): Linear(in_features=72, out_features=64, bias=True)\n",
       "    (1): ReLU()\n",
       "    (2): Linear(in_features=64, out_features=64, bias=True)\n",
       "    (3): ReLU()\n",
       "  )\n",
       ")"
      ]
     },
     "execution_count": 11,
     "metadata": {},
     "output_type": "execute_result"
    }
   ],
   "source": [
    "model.policy.mlp_extractor"
   ]
  },
  {
   "cell_type": "code",
   "execution_count": null,
   "id": "4dde4202-a867-4334-be60-5298fa188a1d",
   "metadata": {},
   "outputs": [],
   "source": []
  },
  {
   "cell_type": "code",
   "execution_count": 12,
   "id": "c31a415b-1a75-4923-89bd-1383d4177ecc",
   "metadata": {},
   "outputs": [
    {
     "name": "stdout",
     "output_type": "stream",
     "text": [
      "mean_reward:-3.69 +/- 1.65\n"
     ]
    }
   ],
   "source": [
    "mean_reward, std_reward = evaluate_policy(model, env, n_eval_episodes=100)\n",
    "print(f\"mean_reward:{mean_reward:.2f} +/- {std_reward:.2f}\")"
   ]
  },
  {
   "cell_type": "code",
   "execution_count": 14,
   "id": "e92f2c2c-a65c-44be-9fb4-4b5b8d8e6209",
   "metadata": {},
   "outputs": [
    {
     "name": "stdout",
     "output_type": "stream",
     "text": [
      "Num timesteps: 9760\n",
      "Best mean reward: 2.20 - Last mean reward per episode: 3.22\n",
      "Saving new best model to ./tmp/gym/best_model.zip\n",
      "Num timesteps: 19760\n",
      "Best mean reward: 3.22 - Last mean reward per episode: 3.94\n",
      "Saving new best model to ./tmp/gym/best_model.zip\n",
      "Num timesteps: 29760\n",
      "Best mean reward: 3.94 - Last mean reward per episode: 4.06\n",
      "Saving new best model to ./tmp/gym/best_model.zip\n",
      "Num timesteps: 39760\n",
      "Best mean reward: 4.06 - Last mean reward per episode: 4.10\n",
      "Saving new best model to ./tmp/gym/best_model.zip\n",
      "Num timesteps: 49760\n",
      "Best mean reward: 4.10 - Last mean reward per episode: 4.48\n",
      "Saving new best model to ./tmp/gym/best_model.zip\n",
      "Num timesteps: 59760\n",
      "Best mean reward: 4.48 - Last mean reward per episode: 4.95\n",
      "Saving new best model to ./tmp/gym/best_model.zip\n",
      "Num timesteps: 69760\n",
      "Best mean reward: 4.95 - Last mean reward per episode: 5.25\n",
      "Saving new best model to ./tmp/gym/best_model.zip\n",
      "Num timesteps: 79760\n",
      "Best mean reward: 5.25 - Last mean reward per episode: 5.42\n",
      "Saving new best model to ./tmp/gym/best_model.zip\n",
      "Num timesteps: 89760\n",
      "Best mean reward: 5.42 - Last mean reward per episode: 5.75\n",
      "Saving new best model to ./tmp/gym/best_model.zip\n",
      "Num timesteps: 99760\n",
      "Best mean reward: 5.75 - Last mean reward per episode: 5.68\n",
      "mean_reward:6.00 +/- 0.00\n"
     ]
    }
   ],
   "source": [
    "model.learn(total_timesteps=100000, callback=callback)\n",
    "mean_reward, std_reward = evaluate_policy(model, env, n_eval_episodes=1)\n",
    "\n",
    "print(f\"mean_reward:{mean_reward:.2f} +/- {std_reward:.2f}\")"
   ]
  },
  {
   "cell_type": "code",
   "execution_count": 15,
   "id": "5a07324d-156e-4fdf-bb6c-131e352a9b7e",
   "metadata": {},
   "outputs": [],
   "source": [
    "# from pprint import pprint\n",
    "# for i in range(100):\n",
    "#     env = MyActionWrapper(MyObservationWrapper(MyEnv()))\n",
    "#     obs = env.reset()\n",
    "#     prints = []\n",
    "\n",
    "#     for j in range(50):\n",
    "#         action, _ = model.predict(obs)\n",
    "#         obs, reward, done, info = env.step(action)\n",
    "        \n",
    "#         prints.append([action, obs, reward, done])\n",
    "         \n",
    "#         if done:\n",
    "#             if j > 6:\n",
    "#                 pprint(prints)\n",
    "#             break"
   ]
  },
  {
   "cell_type": "code",
   "execution_count": 16,
   "id": "cea50217-6040-477e-9edb-712ab2bfa118",
   "metadata": {},
   "outputs": [
    {
     "name": "stdout",
     "output_type": "stream",
     "text": [
      "mean_reward:6.00 +/- 0.00\n"
     ]
    }
   ],
   "source": [
    "mean_reward, std_reward = evaluate_policy(model, env, n_eval_episodes=1000)\n",
    "print(f\"mean_reward:{mean_reward:.2f} +/- {std_reward:.2f}\")"
   ]
  },
  {
   "cell_type": "code",
   "execution_count": 17,
   "id": "c89ec6a6-84d0-421b-9db9-c8d4461fcd09",
   "metadata": {},
   "outputs": [
    {
     "data": {
      "image/png": "[encoded data removed]",
      "text/plain": [
       "<Figure size 864x288 with 1 Axes>"
      ]
     },
     "metadata": {
      "needs_background": "light"
     },
     "output_type": "display_data"
    }
   ],
   "source": [
    "results_plotter.plot_results([log_dir], 1e5, results_plotter.X_TIMESTEPS, \"Table name\", figsize=(12,4))"
   ]
  },
  {
   "cell_type": "code",
   "execution_count": 18,
   "id": "54cbb7f0-5c0a-495a-8cd9-0e5c7a476143",
   "metadata": {},
   "outputs": [],
   "source": [
    "def moving_average(values, window):\n",
    "    \"\"\"\n",
    "    Smooth values by doing a moving average\n",
    "    :param values: (numpy array)\n",
    "    :param window: (int)\n",
    "    :return: (numpy array)\n",
    "    \"\"\"\n",
    "    weights = np.repeat(1.0, window) / window\n",
    "    return np.convolve(values, weights, 'valid')\n",
    "\n",
    "\n",
    "def plot_results(log_folder, title='Learning Curve'):\n",
    "    \"\"\"\n",
    "    plot the results\n",
    "\n",
    "    :param log_folder: (str) the save location of the results to plot\n",
    "    :param title: (str) the title of the task to plot\n",
    "    \"\"\"\n",
    "    x, y = ts2xy(load_results(log_folder), 'timesteps')\n",
    "    y = moving_average(y, window=100)\n",
    "    # Truncate x\n",
    "    x = x[len(x) - len(y):]\n",
    "\n",
    "    fig = plt.figure(title)\n",
    "    plt.plot(x, y)\n",
    "    plt.xlabel('Number of Timesteps')\n",
    "    plt.ylabel('Rewards')\n",
    "    plt.title(title + \" Smoothed\")\n",
    "    plt.show()"
   ]
  },
  {
   "cell_type": "code",
   "execution_count": 19,
   "id": "1b9e9682-4625-42d8-9775-8140801e1bad",
   "metadata": {},
   "outputs": [
    {
     "data": {
      "image/png": "[encoded data removed]",
      "text/plain": [
       "<Figure size 432x288 with 1 Axes>"
      ]
     },
     "metadata": {
      "needs_background": "light"
     },
     "output_type": "display_data"
    }
   ],
   "source": [
    "plot_results(log_dir)"
   ]
  },
  {
   "cell_type": "code",
   "execution_count": null,
   "id": "ba069f75-32cc-46ed-9976-c46053eff79a",
   "metadata": {},
   "outputs": [],
   "source": []
  },
  {
   "cell_type": "code",
   "execution_count": null,
   "id": "73e84385-d0b0-4314-b6fb-2db2301d97ee",
   "metadata": {},
   "outputs": [],
   "source": []
  },
  {
   "cell_type": "code",
   "execution_count": null,
   "id": "a4912826-0f64-4385-aef0-522ef799b4ce",
   "metadata": {},
   "outputs": [],
   "source": []
  },
  {
   "cell_type": "code",
   "execution_count": null,
   "id": "51bc8c7c-214c-4775-8c7e-87dda0003cee",
   "metadata": {},
   "outputs": [],
   "source": []
  },
  {
   "cell_type": "code",
   "execution_count": null,
   "id": "5bdfcb53-8c1a-4bb2-8ddf-eea0208d6d18",
   "metadata": {},
   "outputs": [],
   "source": []
  },
  {
   "cell_type": "code",
   "execution_count": null,
   "id": "b4d3b611-b89b-40b4-8a3c-966fd4ce0ce8",
   "metadata": {},
   "outputs": [],
   "source": []
  },
  {
   "cell_type": "code",
   "execution_count": 25,
   "id": "fe8e1d3c-92a6-473a-999e-99eb4d65def2",
   "metadata": {},
   "outputs": [
    {
     "data": {
      "text/plain": [
       "2"
      ]
     },
     "execution_count": 25,
     "metadata": {},
     "output_type": "execute_result"
    }
   ],
   "source": [
    "torch.argmax(Categorical(logits=torch.tensor([0.5000, 0.5000, 1.0000])).probs).item()"
   ]
  },
  {
   "cell_type": "code",
   "execution_count": null,
   "id": "27fc1941-00fa-4362-b9b9-86f2e8847042",
   "metadata": {},
   "outputs": [],
   "source": []
  },
  {
   "cell_type": "code",
   "execution_count": 41,
   "id": "18237f3d-8ae5-425e-b8df-c9cd6b62eeb5",
   "metadata": {},
   "outputs": [
    {
     "name": "stderr",
     "output_type": "stream",
     "text": [
      "/Users/matus/venv/lib/python3.9/site-packages/gym/spaces/box.py:73: UserWarning: \u001b[33mWARN: Box bound precision lowered by casting to float32\u001b[0m\n",
      "  logger.warn(\n"
     ]
    },
    {
     "data": {
      "text/plain": [
       "array([0, 0, 0, 0, 0, 0, 5, 2, 5, 3, 4, 9])"
      ]
     },
     "execution_count": 41,
     "metadata": {},
     "output_type": "execute_result"
    }
   ],
   "source": [
    "env = MyActionWrapper(MyObservationWrapper(MyEnv()))\n",
    "env.reset()"
   ]
  },
  {
   "cell_type": "code",
   "execution_count": 42,
   "id": "8c0fa30d-478a-4163-ad13-54ea6c0ddfe0",
   "metadata": {},
   "outputs": [
    {
     "data": {
      "text/plain": [
       "True"
      ]
     },
     "execution_count": 42,
     "metadata": {},
     "output_type": "execute_result"
    }
   ],
   "source": [
    "a = np.array([0.5, 0.5, 1.0, 5.3], dtype=np.float32)\n",
    "env.action_space.contains(a)"
   ]
  },
  {
   "cell_type": "code",
   "execution_count": 43,
   "id": "ffe6d0a6-3a4f-46d3-bc00-f2f8dd3bc625",
   "metadata": {},
   "outputs": [
    {
     "data": {
      "text/plain": [
       "{'function': 2, 'input': 5}"
      ]
     },
     "execution_count": 43,
     "metadata": {},
     "output_type": "execute_result"
    }
   ],
   "source": [
    "env.action(a)"
   ]
  },
  {
   "cell_type": "code",
   "execution_count": 44,
   "id": "13c030f7-4218-4ee3-9ddd-bcacc076873e",
   "metadata": {},
   "outputs": [
    {
     "data": {
      "text/plain": [
       "array([0., 0., 1., 0., 0., 0., 0., 0., 1., 0., 0., 0., 0.])"
      ]
     },
     "execution_count": 44,
     "metadata": {},
     "output_type": "execute_result"
    }
   ],
   "source": [
    "ra = {'function': 2, 'input': 5}\n",
    "env.reverse_action(ra)"
   ]
  },
  {
   "cell_type": "code",
   "execution_count": 45,
   "id": "e3d21b6b-88a7-47d9-971c-43e96048439e",
   "metadata": {},
   "outputs": [
    {
     "name": "stdout",
     "output_type": "stream",
     "text": [
      "{'function': 0, 'input': 10}\n"
     ]
    },
    {
     "data": {
      "text/plain": [
       "((array([0, 1, 0, 0, 0, 0, 5, 2, 5, 3, 4, 9]), 1, False, {}), 1)"
      ]
     },
     "execution_count": 45,
     "metadata": {},
     "output_type": "execute_result"
    }
   ],
   "source": [
    "a = np.array([1.0, -1.0, -0.5, 10.0], dtype=np.float32)\n",
    "print(env.action(a))\n",
    "env.step(a), env.num_steps"
   ]
  },
  {
   "cell_type": "code",
   "execution_count": 62,
   "id": "d9cf1e78-b7bf-42e2-9386-c70dfbe2a613",
   "metadata": {},
   "outputs": [
    {
     "data": {
      "text/plain": [
       "MultiDiscrete([ 2  2  2  2  2  2 10 10 10 10 10 10])"
      ]
     },
     "execution_count": 62,
     "metadata": {},
     "output_type": "execute_result"
    }
   ],
   "source": [
    "env.observation_space"
   ]
  },
  {
   "cell_type": "code",
   "execution_count": 63,
   "id": "2ab3c562-8d0a-4ebf-bb37-b504ab3b271f",
   "metadata": {},
   "outputs": [
    {
     "data": {
      "text/plain": [
       "Box([-10. -10. -10.   0.], [10. 10. 10. 10.], (4,), float32)"
      ]
     },
     "execution_count": 63,
     "metadata": {},
     "output_type": "execute_result"
    }
   ],
   "source": [
    "env.action_space"
   ]
  },
  {
   "cell_type": "code",
   "execution_count": 221,
   "id": "e9c2f76a-4028-474c-90b3-47b74dc9f0ea",
   "metadata": {},
   "outputs": [
    {
     "name": "stdout",
     "output_type": "stream",
     "text": [
      "reverse_observation\n"
     ]
    },
    {
     "ename": "TypeError",
     "evalue": "unhashable type: 'slice'",
     "output_type": "error",
     "traceback": [
      "\u001b[0;31m---------------------------------------------------------------------------\u001b[0m",
      "\u001b[0;31mTypeError\u001b[0m                                 Traceback (most recent call last)",
      "Input \u001b[0;32mIn [221]\u001b[0m, in \u001b[0;36m<cell line: 1>\u001b[0;34m()\u001b[0m\n\u001b[0;32m----> 1\u001b[0m \u001b[43menv\u001b[49m\u001b[38;5;241;43m.\u001b[39;49m\u001b[43mreverse_observation\u001b[49m\u001b[43m(\u001b[49m\u001b[43m{\u001b[49m\n\u001b[1;32m      2\u001b[0m \u001b[43m    \u001b[49m\u001b[38;5;124;43m'\u001b[39;49m\u001b[38;5;124;43mpoints\u001b[39;49m\u001b[38;5;124;43m'\u001b[39;49m\u001b[43m:\u001b[49m\u001b[43m \u001b[49m\u001b[43mnp\u001b[49m\u001b[38;5;241;43m.\u001b[39;49m\u001b[43marray\u001b[49m\u001b[43m(\u001b[49m\u001b[43m[\u001b[49m\u001b[38;5;241;43m0\u001b[39;49m\u001b[43m,\u001b[49m\u001b[43m \u001b[49m\u001b[38;5;241;43m0\u001b[39;49m\u001b[43m,\u001b[49m\u001b[43m \u001b[49m\u001b[38;5;241;43m0\u001b[39;49m\u001b[43m,\u001b[49m\u001b[43m \u001b[49m\u001b[38;5;241;43m0\u001b[39;49m\u001b[43m,\u001b[49m\u001b[43m \u001b[49m\u001b[38;5;241;43m0\u001b[39;49m\u001b[43m,\u001b[49m\u001b[43m \u001b[49m\u001b[38;5;241;43m0\u001b[39;49m\u001b[43m]\u001b[49m\u001b[43m,\u001b[49m\u001b[43m \u001b[49m\u001b[43mdtype\u001b[49m\u001b[38;5;241;43m=\u001b[39;49m\u001b[43mnp\u001b[49m\u001b[38;5;241;43m.\u001b[39;49m\u001b[43mint8\u001b[49m\u001b[43m)\u001b[49m\u001b[43m,\u001b[49m\n\u001b[1;32m      3\u001b[0m \u001b[43m    \u001b[49m\u001b[38;5;124;43m'\u001b[39;49m\u001b[38;5;124;43mfeatures\u001b[39;49m\u001b[38;5;124;43m'\u001b[39;49m\u001b[43m:\u001b[49m\u001b[43m \u001b[49m\u001b[43mnp\u001b[49m\u001b[38;5;241;43m.\u001b[39;49m\u001b[43marray\u001b[49m\u001b[43m(\u001b[49m\u001b[43m[\u001b[49m\u001b[38;5;241;43m3\u001b[39;49m\u001b[43m,\u001b[49m\u001b[43m \u001b[49m\u001b[38;5;241;43m6\u001b[39;49m\u001b[43m,\u001b[49m\u001b[43m \u001b[49m\u001b[38;5;241;43m2\u001b[39;49m\u001b[43m,\u001b[49m\u001b[43m \u001b[49m\u001b[38;5;241;43m5\u001b[39;49m\u001b[43m,\u001b[49m\u001b[43m \u001b[49m\u001b[38;5;241;43m7\u001b[39;49m\u001b[43m,\u001b[49m\u001b[43m \u001b[49m\u001b[38;5;241;43m7\u001b[39;49m\u001b[43m]\u001b[49m\u001b[43m)\u001b[49m\n\u001b[1;32m      4\u001b[0m \u001b[43m}\u001b[49m\u001b[43m)\u001b[49m\n",
      "Input \u001b[0;32mIn [211]\u001b[0m, in \u001b[0;36mMyObservationWrapper.reverse_observation\u001b[0;34m(self, observation)\u001b[0m\n\u001b[1;32m     15\u001b[0m \u001b[38;5;28;01mdef\u001b[39;00m \u001b[38;5;21mreverse_observation\u001b[39m(\u001b[38;5;28mself\u001b[39m, observation):\n\u001b[1;32m     16\u001b[0m     \u001b[38;5;28mprint\u001b[39m(\u001b[38;5;124m\"\u001b[39m\u001b[38;5;124mreverse_observation\u001b[39m\u001b[38;5;124m\"\u001b[39m)\n\u001b[1;32m     17\u001b[0m     \u001b[38;5;28;01mreturn\u001b[39;00m {\n\u001b[0;32m---> 18\u001b[0m         \u001b[38;5;124m\"\u001b[39m\u001b[38;5;124mpoints\u001b[39m\u001b[38;5;124m\"\u001b[39m: \u001b[43mobservation\u001b[49m\u001b[43m[\u001b[49m\u001b[43m:\u001b[49m\u001b[38;5;241;43m7\u001b[39;49m\u001b[43m]\u001b[49m,\n\u001b[1;32m     19\u001b[0m         \u001b[38;5;124m\"\u001b[39m\u001b[38;5;124mfeatures\u001b[39m\u001b[38;5;124m\"\u001b[39m: observation[\u001b[38;5;241m7\u001b[39m:]\n\u001b[1;32m     20\u001b[0m     }\n",
      "\u001b[0;31mTypeError\u001b[0m: unhashable type: 'slice'"
     ]
    }
   ],
   "source": [
    "env.reverse_observation({\n",
    "    'points': np.array([0, 0, 0, 0, 0, 0], dtype=np.int8),\n",
    "    'features': np.array([3, 6, 2, 5, 7, 7])\n",
    "})"
   ]
  },
  {
   "cell_type": "code",
   "execution_count": 38,
   "id": "fc851b53-5e13-488f-9ecb-977be04facd3",
   "metadata": {},
   "outputs": [
    {
     "data": {
      "text/plain": [
       "[7, 3, 8, 9, 9, 4]"
      ]
     },
     "execution_count": 38,
     "metadata": {},
     "output_type": "execute_result"
    }
   ],
   "source": [
    "spaces.MultiDiscrete([10 for _ in range(6)]).sample().tolist()"
   ]
  },
  {
   "cell_type": "code",
   "execution_count": 12,
   "id": "07ff7503-17bf-4e7a-9ae9-31e4fba7a271",
   "metadata": {},
   "outputs": [
    {
     "data": {
      "text/plain": [
       "array([-1.4797202 ,  0.32155442, -0.12585865,  1.9204402 ], dtype=float32)"
      ]
     },
     "execution_count": 12,
     "metadata": {},
     "output_type": "execute_result"
    }
   ],
   "source": [
    "b = spaces.Box(low=np.array([-np.inf,-np.inf, -np.inf, 0.0]), high=np.array([np.inf, np.inf, np.inf, 10.0]), dtype=np.float32) #low=-1.0, high=2.0, shape=(3, 4), dtype=np.float32)\n",
    "b.sample()"
   ]
  },
  {
   "cell_type": "code",
   "execution_count": 15,
   "id": "dc45d887-4dec-45eb-9b53-41ffdfda8f8b",
   "metadata": {},
   "outputs": [
    {
     "data": {
      "text/plain": [
       "array([0., 1., 0.])"
      ]
     },
     "execution_count": 15,
     "metadata": {},
     "output_type": "execute_result"
    }
   ],
   "source": [
    "a = np.zeros(3)\n",
    "a[1] = 1.\n",
    "a"
   ]
  },
  {
   "cell_type": "code",
   "execution_count": 1,
   "id": "2a825305-9054-4b64-9522-411570b7998a",
   "metadata": {},
   "outputs": [
    {
     "name": "stderr",
     "output_type": "stream",
     "text": [
      "/Users/matus/venv/lib/python3.9/site-packages/tqdm/auto.py:22: TqdmWarning: IProgress not found. Please update jupyter and ipywidgets. See https://ipywidgets.readthedocs.io/en/stable/user_install.html\n",
      "  from .autonotebook import tqdm as notebook_tqdm\n"
     ]
    },
    {
     "data": {
      "text/plain": [
       "Dict(function:Discrete(3), input:Box([0.], [10.], (1,), float32))"
      ]
     },
     "execution_count": 1,
     "metadata": {},
     "output_type": "execute_result"
    }
   ],
   "source": [
    "from stable_baselines3.common.distributions import DictDistribution, DiagGaussianDistribution, CategoricalDistribution, MultiCategoricalDistribution\n",
    "from gym import spaces\n",
    "import torch\n",
    "\n",
    "action_space = spaces.Dict({\n",
    "    \"function\": spaces.Discrete(3), \n",
    "    \"input\":  spaces.Box(low=0.0, high=10.0, shape=(1,)) #spaces.Box(low=0.0, high=MAX_INPUT, shape=(1,)) #spaces.Discrete(10)\n",
    "})\n",
    "action_space"
   ]
  },
  {
   "cell_type": "code",
   "execution_count": 2,
   "id": "7c25a827-0180-471a-9574-a62ded3fdfb8",
   "metadata": {},
   "outputs": [],
   "source": [
    "dd = DictDistribution(action_space)"
   ]
  },
  {
   "cell_type": "code",
   "execution_count": 8,
   "id": "28d82cf4-915c-4ba9-bb8e-b325f7c196b4",
   "metadata": {},
   "outputs": [],
   "source": [
    "dn, log_stds = dd.proba_distribution_net(64)"
   ]
  },
  {
   "cell_type": "code",
   "execution_count": 9,
   "id": "cca6c396-d2dc-4c39-9384-b0f4c3b2342f",
   "metadata": {},
   "outputs": [
    {
     "data": {
      "text/plain": [
       "{'function': Linear(in_features=64, out_features=3, bias=True),\n",
       " 'input': Linear(in_features=64, out_features=1, bias=True)}"
      ]
     },
     "execution_count": 9,
     "metadata": {},
     "output_type": "execute_result"
    }
   ],
   "source": [
    "dn.modules"
   ]
  },
  {
   "cell_type": "code",
   "execution_count": 11,
   "id": "1ed161c1-8d24-4eea-8431-bffa43a1200b",
   "metadata": {},
   "outputs": [
    {
     "data": {
      "text/plain": [
       "tensor([[-0.0251, -0.3786, -0.2812, -0.0030]], grad_fn=<CatBackward0>)"
      ]
     },
     "execution_count": 11,
     "metadata": {},
     "output_type": "execute_result"
    }
   ],
   "source": [
    "t = dn(torch.rand(1,64))\n",
    "t"
   ]
  },
  {
   "cell_type": "code",
   "execution_count": 12,
   "id": "2ecb7e43-9629-4b70-a03b-bc0fcedab0b7",
   "metadata": {},
   "outputs": [
    {
     "data": {
      "text/plain": [
       "<stable_baselines3.common.distributions.DictDistribution at 0x10598d7c0>"
      ]
     },
     "execution_count": 12,
     "metadata": {},
     "output_type": "execute_result"
    }
   ],
   "source": [
    "dd.proba_distribution(torch.rand(1,4), log_stds, {\"input\": 1.0})"
   ]
  },
  {
   "cell_type": "code",
   "execution_count": 13,
   "id": "fec9b969-1ea4-4d2f-9735-ea82beeea373",
   "metadata": {},
   "outputs": [
    {
     "data": {
      "text/plain": [
       "{'function': <stable_baselines3.common.distributions.CategoricalDistribution at 0x10598d820>,\n",
       " 'input': <stable_baselines3.common.distributions.DiagGaussianDistribution at 0x10598db20>}"
      ]
     },
     "execution_count": 13,
     "metadata": {},
     "output_type": "execute_result"
    }
   ],
   "source": [
    "dd.proba_distributions"
   ]
  },
  {
   "cell_type": "code",
   "execution_count": 14,
   "id": "912b2407-596d-471e-88eb-811129e89c43",
   "metadata": {},
   "outputs": [
    {
     "data": {
      "text/plain": [
       "tensor([-1.3400])"
      ]
     },
     "execution_count": 14,
     "metadata": {},
     "output_type": "execute_result"
    }
   ],
   "source": [
    "dd.proba_distributions[\"function\"].log_prob(torch.tensor([2]))"
   ]
  },
  {
   "cell_type": "code",
   "execution_count": 15,
   "id": "0e96fa3f-d72a-4d7d-a825-c1946af16202",
   "metadata": {},
   "outputs": [
    {
     "data": {
      "text/plain": [
       "tensor([-0.9959], grad_fn=<SumBackward1>)"
      ]
     },
     "execution_count": 15,
     "metadata": {},
     "output_type": "execute_result"
    }
   ],
   "source": [
    "dd.proba_distributions[\"input\"].log_prob(torch.tensor([0.6]))"
   ]
  },
  {
   "cell_type": "code",
   "execution_count": 16,
   "id": "37d442fd-9dcd-4888-9711-de603910dab2",
   "metadata": {},
   "outputs": [
    {
     "data": {
      "text/plain": [
       "[<stable_baselines3.common.distributions.CategoricalDistribution at 0x10598d820>,\n",
       " <stable_baselines3.common.distributions.DiagGaussianDistribution at 0x10598db20>]"
      ]
     },
     "execution_count": 16,
     "metadata": {},
     "output_type": "execute_result"
    }
   ],
   "source": [
    "list(dd.proba_distributions.values())"
   ]
  },
  {
   "cell_type": "code",
   "execution_count": 17,
   "id": "d54b920e-6dbe-47a6-9c90-7f2e4acbdc9e",
   "metadata": {},
   "outputs": [
    {
     "data": {
      "text/plain": [
       "tensor([0.0000, 3.4842], grad_fn=<StackBackward0>)"
      ]
     },
     "execution_count": 17,
     "metadata": {},
     "output_type": "execute_result"
    }
   ],
   "source": [
    "torch.stack([dist.sample().squeeze() for dist in dd.proba_distributions.values()], dim=-1)"
   ]
  },
  {
   "cell_type": "code",
   "execution_count": 18,
   "id": "839a3df2-6244-4f4e-9803-e92e397faa68",
   "metadata": {},
   "outputs": [
    {
     "data": {
      "text/plain": [
       "tensor([[0.2077]])"
      ]
     },
     "execution_count": 18,
     "metadata": {},
     "output_type": "execute_result"
    }
   ],
   "source": [
    "dd.proba_distributions[\"input\"].mode()"
   ]
  },
  {
   "cell_type": "code",
   "execution_count": 19,
   "id": "19ed5f9d-43c5-4895-b061-154dcede667c",
   "metadata": {},
   "outputs": [
    {
     "data": {
      "text/plain": [
       "tensor([1])"
      ]
     },
     "execution_count": 19,
     "metadata": {},
     "output_type": "execute_result"
    }
   ],
   "source": [
    "dd.proba_distributions[\"function\"].sample()"
   ]
  },
  {
   "cell_type": "code",
   "execution_count": 20,
   "id": "6b90a67c-5b9c-4fb1-bcce-b22e07ef143a",
   "metadata": {},
   "outputs": [
    {
     "data": {
      "text/plain": [
       "({'function': tensor([0]), 'input': tensor([[0.2077]])},\n",
       " {'function': tensor([0]),\n",
       "  'input': tensor([[-0.5962]], grad_fn=<AddBackward0>)})"
      ]
     },
     "execution_count": 20,
     "metadata": {},
     "output_type": "execute_result"
    }
   ],
   "source": [
    "dd.mode(), dd.sample()"
   ]
  },
  {
   "cell_type": "code",
   "execution_count": 21,
   "id": "0667fa72-751d-4b5d-b599-dc93005564cb",
   "metadata": {},
   "outputs": [
    {
     "data": {
      "text/plain": [
       "tensor([1.0000, 1.4760], grad_fn=<StackBackward0>)"
      ]
     },
     "execution_count": 21,
     "metadata": {},
     "output_type": "execute_result"
    }
   ],
   "source": [
    " dd.actions_from_params(torch.rand(1,64), log_stds, {\"input\": 1.0})"
   ]
  },
  {
   "cell_type": "code",
   "execution_count": 22,
   "id": "f188b059-4c1b-4149-9eeb-896379cf9fef",
   "metadata": {},
   "outputs": [
    {
     "data": {
      "text/plain": [
       "tensor([-1.3197, -1.5673], grad_fn=<CatBackward0>)"
      ]
     },
     "execution_count": 22,
     "metadata": {},
     "output_type": "execute_result"
    }
   ],
   "source": [
    "action = torch.tensor([[ 2.0000, -0.8836]])\n",
    "torch.cat([dist.log_prob(action) for dist, action in zip(list(dd.proba_distributions.values()), torch.unbind(action, dim=1))])"
   ]
  },
  {
   "cell_type": "code",
   "execution_count": 23,
   "id": "4c00d31c-fbf7-449c-8ad2-c34d3663bd33",
   "metadata": {},
   "outputs": [
    {
     "data": {
      "text/plain": [
       "{'function': tensor([-1.3197]),\n",
       " 'input': tensor([-1.5673], grad_fn=<SumBackward1>)}"
      ]
     },
     "execution_count": 23,
     "metadata": {},
     "output_type": "execute_result"
    }
   ],
   "source": [
    "dd.log_prob(torch.tensor([[ 2.0000, -0.8836]]))"
   ]
  },
  {
   "cell_type": "code",
   "execution_count": 24,
   "id": "3ee62c4d-5c40-4696-9f3f-50e484a36bb6",
   "metadata": {},
   "outputs": [
    {
     "ename": "IndexError",
     "evalue": "too many indices for tensor of dimension 1",
     "output_type": "error",
     "traceback": [
      "\u001b[0;31m---------------------------------------------------------------------------\u001b[0m",
      "\u001b[0;31mIndexError\u001b[0m                                Traceback (most recent call last)",
      "Input \u001b[0;32mIn [24]\u001b[0m, in \u001b[0;36m<cell line: 1>\u001b[0;34m()\u001b[0m\n\u001b[0;32m----> 1\u001b[0m \u001b[43mdd\u001b[49m\u001b[38;5;241;43m.\u001b[39;49m\u001b[43mlog_prob_from_params\u001b[49m\u001b[43m(\u001b[49m\u001b[43mtorch\u001b[49m\u001b[38;5;241;43m.\u001b[39;49m\u001b[43mrand\u001b[49m\u001b[43m(\u001b[49m\u001b[38;5;241;43m1\u001b[39;49m\u001b[43m,\u001b[49m\u001b[38;5;241;43m64\u001b[39;49m\u001b[43m)\u001b[49m\u001b[43m,\u001b[49m\u001b[43m \u001b[49m\u001b[43mlog_stds\u001b[49m\u001b[43m,\u001b[49m\u001b[43m \u001b[49m\u001b[43m{\u001b[49m\u001b[38;5;124;43m\"\u001b[39;49m\u001b[38;5;124;43minput\u001b[39;49m\u001b[38;5;124;43m\"\u001b[39;49m\u001b[43m:\u001b[49m\u001b[43m \u001b[49m\u001b[38;5;241;43m1.0\u001b[39;49m\u001b[43m}\u001b[49m\u001b[43m)\u001b[49m\n",
      "File \u001b[0;32m~/Documents/soroban/simple-contract-generator/baselines3/stable_baselines3/common/distributions.py:890\u001b[0m, in \u001b[0;36mDictDistribution.log_prob_from_params\u001b[0;34m(self, action_logits, log_std, latent_sde)\u001b[0m\n\u001b[1;32m    888\u001b[0m \u001b[38;5;28;01mdef\u001b[39;00m \u001b[38;5;21mlog_prob_from_params\u001b[39m(\u001b[38;5;28mself\u001b[39m, action_logits: th\u001b[38;5;241m.\u001b[39mTensor, log_std, latent_sde) \u001b[38;5;241m-\u001b[39m\u001b[38;5;241m>\u001b[39m Tuple[th\u001b[38;5;241m.\u001b[39mTensor, th\u001b[38;5;241m.\u001b[39mTensor]:\n\u001b[1;32m    889\u001b[0m     actions \u001b[38;5;241m=\u001b[39m \u001b[38;5;28mself\u001b[39m\u001b[38;5;241m.\u001b[39mactions_from_params(action_logits, log_std, latent_sde)\n\u001b[0;32m--> 890\u001b[0m     log_prob \u001b[38;5;241m=\u001b[39m \u001b[38;5;28;43mself\u001b[39;49m\u001b[38;5;241;43m.\u001b[39;49m\u001b[43mlog_prob\u001b[49m\u001b[43m(\u001b[49m\u001b[43mactions\u001b[49m\u001b[43m)\u001b[49m\n\u001b[1;32m    891\u001b[0m     \u001b[38;5;28;01mreturn\u001b[39;00m actions, log_prob\n",
      "File \u001b[0;32m~/Documents/soroban/simple-contract-generator/baselines3/stable_baselines3/common/distributions.py:835\u001b[0m, in \u001b[0;36mDictDistribution.log_prob\u001b[0;34m(self, actions)\u001b[0m\n\u001b[1;32m    828\u001b[0m \u001b[38;5;28;01mdef\u001b[39;00m \u001b[38;5;21mlog_prob\u001b[39m(\u001b[38;5;28mself\u001b[39m, actions):\n\u001b[1;32m    829\u001b[0m     \u001b[38;5;66;03m# return th.cat(\u001b[39;00m\n\u001b[1;32m    830\u001b[0m     \u001b[38;5;66;03m#     [dist.log_prob(action) for dist, action in zip(list(self.proba_distributions.values()), th.unbind(actions, dim=1))], dim=-1\u001b[39;00m\n\u001b[1;32m    831\u001b[0m     \u001b[38;5;66;03m# )\u001b[39;00m\n\u001b[1;32m    833\u001b[0m     \u001b[38;5;28;01mif\u001b[39;00m th\u001b[38;5;241m.\u001b[39mis_tensor(actions):\n\u001b[1;32m    834\u001b[0m         actions \u001b[38;5;241m=\u001b[39m {\n\u001b[0;32m--> 835\u001b[0m             \u001b[38;5;124m\"\u001b[39m\u001b[38;5;124mfunction\u001b[39m\u001b[38;5;124m\"\u001b[39m: \u001b[43mactions\u001b[49m\u001b[43m[\u001b[49m\u001b[43m:\u001b[49m\u001b[43m,\u001b[49m\u001b[43m \u001b[49m\u001b[38;5;241;43m0\u001b[39;49m\u001b[43m]\u001b[49m,\n\u001b[1;32m    836\u001b[0m             \u001b[38;5;124m\"\u001b[39m\u001b[38;5;124minput\u001b[39m\u001b[38;5;124m\"\u001b[39m: actions[:, \u001b[38;5;241m1\u001b[39m]\n\u001b[1;32m    837\u001b[0m         }\n\u001b[1;32m    838\u001b[0m         \u001b[38;5;66;03m#print(actions)\u001b[39;00m\n\u001b[1;32m    840\u001b[0m     res \u001b[38;5;241m=\u001b[39m {}\n",
      "\u001b[0;31mIndexError\u001b[0m: too many indices for tensor of dimension 1"
     ]
    }
   ],
   "source": [
    "dd.log_prob_from_params(torch.rand(1,64), log_stds, {\"input\": 1.0})"
   ]
  },
  {
   "cell_type": "code",
   "execution_count": null,
   "id": "3e93bf69-34f9-40c7-bb64-a2971763f637",
   "metadata": {},
   "outputs": [],
   "source": []
  },
  {
   "cell_type": "code",
   "execution_count": null,
   "id": "b5aebfe3-d88f-41fa-aaf8-c25776c091e3",
   "metadata": {},
   "outputs": [],
   "source": []
  },
  {
   "cell_type": "code",
   "execution_count": null,
   "id": "28b37750-8e3b-4134-808f-54d78b37c834",
   "metadata": {},
   "outputs": [],
   "source": []
  },
  {
   "cell_type": "code",
   "execution_count": null,
   "id": "52e1a6b5-ae6f-471f-b717-a49726ea0714",
   "metadata": {},
   "outputs": [],
   "source": []
  },
  {
   "cell_type": "code",
   "execution_count": 35,
   "id": "c994c32b-bae6-4fa8-9426-8f67aecf1bf4",
   "metadata": {},
   "outputs": [],
   "source": [
    "dgd = DiagGaussianDistribution(1)"
   ]
  },
  {
   "cell_type": "code",
   "execution_count": 36,
   "id": "9beb91c4-1625-46cd-b5cb-ca2bdf58d96b",
   "metadata": {},
   "outputs": [],
   "source": [
    "module, log_std = dgd.proba_distribution_net(64)"
   ]
  },
  {
   "cell_type": "code",
   "execution_count": 41,
   "id": "e13df527-8c62-4ad9-bf0b-052624dfd09e",
   "metadata": {},
   "outputs": [
    {
     "data": {
      "text/plain": [
       "tensor(-1.0351, grad_fn=<SumBackward0>)"
      ]
     },
     "execution_count": 41,
     "metadata": {},
     "output_type": "execute_result"
    }
   ],
   "source": [
    "dgd.proba_distribution(torch.rand(1), log_std).log_prob(torch.tensor([0.6]))"
   ]
  },
  {
   "cell_type": "code",
   "execution_count": 65,
   "id": "a8d7d41e-7cc0-4927-9d48-aa0022f09bda",
   "metadata": {},
   "outputs": [
    {
     "data": {
      "text/plain": [
       "tensor([1])"
      ]
     },
     "execution_count": 65,
     "metadata": {},
     "output_type": "execute_result"
    }
   ],
   "source": [
    "cd = CategoricalDistribution(5)\n",
    "module = cd.proba_distribution_net(64)\n",
    "cd.proba_distribution(torch.rand(1,3))\n",
    "cd.log_prob(torch.tensor([1]))\n",
    "cd.entropy()\n",
    "cd.sample()"
   ]
  },
  {
   "cell_type": "code",
   "execution_count": 67,
   "id": "96bb62d2-c7ec-4f22-a48e-7bc726b1c892",
   "metadata": {},
   "outputs": [
    {
     "data": {
      "text/plain": [
       "tensor([18])"
      ]
     },
     "execution_count": 67,
     "metadata": {},
     "output_type": "execute_result"
    }
   ],
   "source": [
    "cd.actions_from_params(torch.rand(1,64), deterministic=True)"
   ]
  },
  {
   "cell_type": "code",
   "execution_count": 49,
   "id": "27fc47eb-f20a-4176-956a-d673d9311d73",
   "metadata": {},
   "outputs": [
    {
     "data": {
      "text/plain": [
       "0"
      ]
     },
     "execution_count": 49,
     "metadata": {},
     "output_type": "execute_result"
    }
   ],
   "source": [
    "action_space[\"function\"].sample()"
   ]
  },
  {
   "cell_type": "code",
   "execution_count": 64,
   "id": "092d2cda-172a-4607-8be5-46bf6c4d4b43",
   "metadata": {},
   "outputs": [
    {
     "data": {
      "text/plain": [
       "<stable_baselines3.common.distributions.MultiCategoricalDistribution at 0x28af74490>"
      ]
     },
     "execution_count": 64,
     "metadata": {},
     "output_type": "execute_result"
    }
   ],
   "source": [
    "mcd = MultiCategoricalDistribution([10, 100])\n",
    "module = mcd.proba_distribution_net(64)\n",
    "mcd.proba_distribution(torch.rand(1,110))\n",
    "#mcd.log_prob(torch.tensor([1]))\n",
    "#mcd.sample()"
   ]
  },
  {
   "cell_type": "code",
   "execution_count": 78,
   "id": "b31d45bd-206a-4166-81ce-18b998fdf277",
   "metadata": {},
   "outputs": [
    {
     "data": {
      "text/plain": [
       "tensor([[0.5990, 0.2077, 0.2005, 0.4259]])"
      ]
     },
     "execution_count": 78,
     "metadata": {},
     "output_type": "execute_result"
    }
   ],
   "source": [
    "tt = torch.rand(1,4)\n",
    "tt"
   ]
  },
  {
   "cell_type": "code",
   "execution_count": 80,
   "id": "01646d89-3692-4f13-84e0-b44a33fac1b2",
   "metadata": {},
   "outputs": [
    {
     "data": {
      "text/plain": [
       "tensor([[0.2005]])"
      ]
     },
     "execution_count": 80,
     "metadata": {},
     "output_type": "execute_result"
    }
   ],
   "source": [
    "tt[:,2:3]"
   ]
  },
  {
   "cell_type": "code",
   "execution_count": 8,
   "id": "1f32f608-3666-4852-896d-862f91960767",
   "metadata": {},
   "outputs": [
    {
     "name": "stdout",
     "output_type": "stream",
     "text": [
      "0 a\n",
      "1 b\n"
     ]
    }
   ],
   "source": [
    "d = {\"a\": 0, \"b\": 1}\n",
    "for i, k in enumerate(d):\n",
    "    print(i, k)"
   ]
  },
  {
   "cell_type": "code",
   "execution_count": null,
   "id": "b352c449-7ced-4ce5-9655-47b528c0dc5b",
   "metadata": {},
   "outputs": [],
   "source": []
  }
 ],
 "metadata": {
  "kernelspec": {
   "display_name": "Python 3 (ipykernel)",
   "language": "python",
   "name": "python3"
  },
  "language_info": {
   "codemirror_mode": {
    "name": "ipython",
    "version": 3
   },
   "file_extension": ".py",
   "mimetype": "text/x-python",
   "name": "python",
   "nbconvert_exporter": "python",
   "pygments_lexer": "ipython3",
   "version": "3.9.15"
  }
 },
 "nbformat": 4,
 "nbformat_minor": 5
}
