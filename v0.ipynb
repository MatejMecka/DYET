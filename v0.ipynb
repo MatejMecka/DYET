{
 "cells": [
  {
   "cell_type": "code",
   "execution_count": 1,
   "id": "8f4aaa47-1676-4d82-b6b1-382ead4c5733",
   "metadata": {},
   "outputs": [
    {
     "name": "stderr",
     "output_type": "stream",
     "text": [
      "/Users/matus/venv/lib/python3.9/site-packages/tqdm/auto.py:22: TqdmWarning: IProgress not found. Please update jupyter and ipywidgets. See https://ipywidgets.readthedocs.io/en/stable/user_install.html\n",
      "  from .autonotebook import tqdm as notebook_tqdm\n"
     ]
    }
   ],
   "source": [
    "import os\n",
    "from typing import Callable, Dict, List, Optional, Tuple, Type, Union\n",
    "import numpy as np\n",
    "import matplotlib.pyplot as plt\n",
    "import gym\n",
    "from gym import spaces\n",
    "from gym.wrappers import FlattenObservation\n",
    "from stable_baselines3.common.env_checker import check_env\n",
    "from stable_baselines3 import PPO\n",
    "from stable_baselines3.ppo.policies import MlpPolicy\n",
    "from stable_baselines3.common.evaluation import evaluate_policy\n",
    "from stable_baselines3.common.monitor import Monitor\n",
    "from stable_baselines3.common.results_plotter import load_results, ts2xy\n",
    "from stable_baselines3.common.noise import NormalActionNoise\n",
    "from stable_baselines3.common.callbacks import BaseCallback\n",
    "from stable_baselines3.common import results_plotter\n",
    "from stable_baselines3.common.torch_layers import BaseFeaturesExtractor\n",
    "from stable_baselines3.common.policies import ActorCriticPolicy\n",
    "\n",
    "import torch\n",
    "from torch import nn\n",
    "\n",
    "NUM_INPUT_VALUES = 100\n",
    "MAX_STEPS = 6\n",
    "\n",
    "class MyObservationWrapper(gym.ObservationWrapper):\n",
    "    def __init__(self, env):\n",
    "        super(MyObservationWrapper, self).__init__(env)\n",
    "        self.observation_space = spaces.MultiDiscrete([2 for _ in range(6)] + [NUM_INPUT_VALUES for _ in range(6)])\n",
    "            \n",
    "    def reverse_observation(self, observation):\n",
    "        return {\n",
    "            \"points\": observation[:7],\n",
    "            \"features\": observation[7:]\n",
    "        }\n",
    "    \n",
    "    def observation(self, observation):\n",
    "        return np.concatenate((observation[\"points\"], observation[\"features\"]), axis=0)\n",
    "    \n",
    "class MyActionWrapper(gym.ActionWrapper):\n",
    "    def __init__(self, env):\n",
    "        super(MyActionWrapper, self).__init__(env)\n",
    "        self.action_space = spaces.MultiDiscrete([3, NUM_INPUT_VALUES])\n",
    "        \n",
    "    def action(self, action):\n",
    "        #print(\"action:\", action)\n",
    "        #print(\"action.size()\", len(action))\n",
    "        return {\n",
    "            \"function\": action[0],\n",
    "            \"input\": action[1]\n",
    "        }\n",
    "\n",
    "    def reverse_action(self, action):\n",
    "        return np.array([action[\"function\"], action[\"input\"]])\n",
    "    \n",
    "class SaveOnBestTrainingRewardCallback(BaseCallback):\n",
    "    \"\"\"\n",
    "    Callback for saving a model (the check is done every ``check_freq`` steps)\n",
    "    based on the training reward (in practice, we recommend using ``EvalCallback``).\n",
    "\n",
    "    :param check_freq: (int)\n",
    "    :param log_dir: (str) Path to the folder where the model will be saved.\n",
    "      It must contains the file created by the ``Monitor`` wrapper.\n",
    "    :param verbose: (int)\n",
    "    \"\"\"\n",
    "    def __init__(self, check_freq: int, log_dir: str, verbose=1):\n",
    "        super(SaveOnBestTrainingRewardCallback, self).__init__(verbose)\n",
    "        self.check_freq = check_freq\n",
    "        self.log_dir = log_dir\n",
    "        self.save_path = os.path.join(log_dir, 'best_model')\n",
    "        self.best_mean_reward = -np.inf\n",
    "\n",
    "    def _init_callback(self) -> None:\n",
    "        # Create folder if needed\n",
    "        if self.save_path is not None:\n",
    "            os.makedirs(self.save_path, exist_ok=True)\n",
    "\n",
    "    def _on_step(self) -> bool:\n",
    "        if self.n_calls % self.check_freq == 0:\n",
    "\n",
    "            # Retrieve training reward\n",
    "            x, y = ts2xy(load_results(self.log_dir), 'timesteps')\n",
    "            if len(x) > 0:\n",
    "                # Mean training reward over the last 100 episodes\n",
    "                mean_reward = np.mean(y[-100:])\n",
    "                if self.verbose > 0:\n",
    "                    print(f\"Num timesteps: {self.num_timesteps}\")\n",
    "                    print(f\"Best mean reward: {self.best_mean_reward:.2f} - Last mean reward per episode: {mean_reward:.2f}\")\n",
    "\n",
    "                # New best model, you could save the agent here\n",
    "                if mean_reward > self.best_mean_reward:\n",
    "                    self.best_mean_reward = mean_reward\n",
    "                    # Example for saving best model\n",
    "                    if self.verbose > 0:\n",
    "                        print(f\"Saving new best model to {self.save_path}.zip\")\n",
    "                    self.model.save(self.save_path)\n",
    "\n",
    "        return True\n"
   ]
  },
  {
   "cell_type": "code",
   "execution_count": 2,
   "id": "01bfe6c9-8c45-44d5-b72c-1df7829ac8d7",
   "metadata": {},
   "outputs": [
    {
     "name": "stderr",
     "output_type": "stream",
     "text": [
      "/Users/matus/Documents/soroban/simple-contract-generator/baselines3/stable_baselines3/common/env_checker.py:81: UserWarning: The action space is not based off a numpy array. Typically this means it's either a Dict or Tuple space. This type of action space is currently not supported by Stable Baselines 3. You should try to flatten the action using a wrapper.\n",
      "  warnings.warn(\n"
     ]
    }
   ],
   "source": [
    "class DummyContract:\n",
    "    def __init__(self, features):\n",
    "        self.points = [0 for i in range(6)] #coverage\n",
    "        self.features = features\n",
    "        \n",
    "    def fn0(self, x):\n",
    "        if x <= self.features[0]:\n",
    "            self.points[0] = 1\n",
    "        \n",
    "        if x >= self.features[1]:\n",
    "            self.points[1] = 1\n",
    "    \n",
    "    def fn1(self, x):\n",
    "        if x <= self.features[2]:\n",
    "            self.points[2] = 1\n",
    "        \n",
    "        if x >= self.features[3]:\n",
    "            self.points[3] = 1\n",
    "    \n",
    "    def fn2(self, x):\n",
    "        if x <= self.features[4]:\n",
    "            self.points[4] = 1\n",
    "        \n",
    "        if x >= self.features[5]:\n",
    "            self.points[5] = 1\n",
    "\n",
    "class MyEnv(gym.Env):\n",
    "    \n",
    "    def __init__(self):\n",
    "        super(MyEnv, self).__init__()\n",
    "        self.contract = None\n",
    "        self.num_steps = None\n",
    "        \n",
    "        self.observation_space = spaces.Dict({\n",
    "            \"points\": spaces.MultiBinary(6), \n",
    "            \"features\": spaces.MultiDiscrete([NUM_INPUT_VALUES for _ in range(6)])\n",
    "        })\n",
    "        \n",
    "        self.action_space = spaces.Dict({\n",
    "            \"function\": spaces.Discrete(3), \n",
    "            \"input\": spaces.Discrete(10)\n",
    "        })\n",
    "        \n",
    "    def reset(self):\n",
    "        features = spaces.MultiDiscrete([NUM_INPUT_VALUES for _ in range(6)]).sample().tolist()\n",
    "        self.contract = DummyContract(features)\n",
    "        self.num_steps = 0\n",
    "        \n",
    "        observation = {\n",
    "            \"points\": np.array(self.contract.points, dtype=np.int8), \n",
    "            \"features\": np.array(self.contract.features)\n",
    "        }\n",
    "        return observation\n",
    "    \n",
    "    def step(self, action):\n",
    "        self.num_steps += 1\n",
    "        fn_index, fn_input = action[\"function\"], action[\"input\"]\n",
    "        \n",
    "        prev_score = sum(self.contract.points)\n",
    "\n",
    "        if fn_index == 0:\n",
    "            self.contract.fn0(fn_input)\n",
    "        \n",
    "        elif fn_index == 1:\n",
    "            self.contract.fn1(fn_input)\n",
    "            \n",
    "        elif fn_index == 2:\n",
    "            self.contract.fn2(fn_input)\n",
    "            \n",
    "        score = sum(self.contract.points)\n",
    "        reward = score - prev_score\n",
    "        \n",
    "        reward = -1 if reward == 0 else reward\n",
    "        \n",
    "        info = {}\n",
    "        \n",
    "        done = self.num_steps == MAX_STEPS or score == 6\n",
    "        \n",
    "        #observation = np.array(self.contract.points).astype(np.int8)\n",
    "        observation = {\n",
    "            \"points\": np.array(self.contract.points, dtype=np.int8), \n",
    "            \"features\": np.array(self.contract.features)\n",
    "        }\n",
    "\n",
    "        return observation, reward, done, info\n",
    "        \n",
    "    def render(self, mode='console'):        \n",
    "        raise NotImplementedError()\n",
    "\n",
    "    def close(self):\n",
    "        pass\n",
    "\n",
    "env = MyEnv()\n",
    "# If the environment don't follow the interface, an error will be thrown\n",
    "check_env(env, warn=True)"
   ]
  },
  {
   "cell_type": "code",
   "execution_count": 3,
   "id": "518ecde4-47fb-4d60-b59c-d11fd63206f3",
   "metadata": {},
   "outputs": [],
   "source": [
    "log_dir = \"./tmp/gym/\"\n",
    "os.makedirs(log_dir, exist_ok=True)\n",
    "\n",
    "env = MyActionWrapper(MyObservationWrapper(MyEnv()))\n",
    "env = Monitor(env, log_dir)\n",
    "\n",
    "model = PPO(MlpPolicy, env, verbose=0)\n",
    "\n",
    "callback = SaveOnBestTrainingRewardCallback(check_freq=10000, log_dir=log_dir)"
   ]
  },
  {
   "cell_type": "code",
   "execution_count": 4,
   "id": "6968b432-8edc-4b42-96a9-e76f7dcdf7dd",
   "metadata": {},
   "outputs": [
    {
     "data": {
      "text/plain": [
       "MlpExtractor(\n",
       "  (shared_net): Sequential()\n",
       "  (policy_net): Sequential(\n",
       "    (0): Linear(in_features=612, out_features=64, bias=True)\n",
       "    (1): Tanh()\n",
       "    (2): Linear(in_features=64, out_features=64, bias=True)\n",
       "    (3): Tanh()\n",
       "  )\n",
       "  (value_net): Sequential(\n",
       "    (0): Linear(in_features=612, out_features=64, bias=True)\n",
       "    (1): Tanh()\n",
       "    (2): Linear(in_features=64, out_features=64, bias=True)\n",
       "    (3): Tanh()\n",
       "  )\n",
       ")"
      ]
     },
     "execution_count": 4,
     "metadata": {},
     "output_type": "execute_result"
    }
   ],
   "source": [
    "model.policy.mlp_extractor"
   ]
  },
  {
   "cell_type": "code",
   "execution_count": 5,
   "id": "c31a415b-1a75-4923-89bd-1383d4177ecc",
   "metadata": {},
   "outputs": [
    {
     "name": "stdout",
     "output_type": "stream",
     "text": [
      "mean_reward:-3.34 +/- 1.60\n"
     ]
    }
   ],
   "source": [
    "mean_reward, std_reward = evaluate_policy(model, env, n_eval_episodes=100)\n",
    "print(f\"mean_reward:{mean_reward:.2f} +/- {std_reward:.2f}\")"
   ]
  },
  {
   "cell_type": "code",
   "execution_count": 6,
   "id": "e92f2c2c-a65c-44be-9fb4-4b5b8d8e6209",
   "metadata": {},
   "outputs": [
    {
     "name": "stdout",
     "output_type": "stream",
     "text": [
      "Num timesteps: 10000\n",
      "Best mean reward: -inf - Last mean reward per episode: 1.43\n",
      "Saving new best model to ./tmp/gym/best_model.zip\n",
      "Num timesteps: 20000\n",
      "Best mean reward: 1.43 - Last mean reward per episode: 2.18\n",
      "Saving new best model to ./tmp/gym/best_model.zip\n",
      "Num timesteps: 30000\n",
      "Best mean reward: 2.18 - Last mean reward per episode: 2.62\n",
      "Saving new best model to ./tmp/gym/best_model.zip\n",
      "Num timesteps: 40000\n",
      "Best mean reward: 2.62 - Last mean reward per episode: 2.64\n",
      "Saving new best model to ./tmp/gym/best_model.zip\n",
      "Num timesteps: 50000\n",
      "Best mean reward: 2.64 - Last mean reward per episode: 3.35\n",
      "Saving new best model to ./tmp/gym/best_model.zip\n",
      "Num timesteps: 60000\n",
      "Best mean reward: 3.35 - Last mean reward per episode: 3.11\n",
      "Num timesteps: 70000\n",
      "Best mean reward: 3.35 - Last mean reward per episode: 3.15\n",
      "Num timesteps: 80000\n",
      "Best mean reward: 3.35 - Last mean reward per episode: 3.31\n",
      "Num timesteps: 90000\n",
      "Best mean reward: 3.35 - Last mean reward per episode: 3.80\n",
      "Saving new best model to ./tmp/gym/best_model.zip\n",
      "Num timesteps: 100000\n",
      "Best mean reward: 3.80 - Last mean reward per episode: 3.94\n",
      "Saving new best model to ./tmp/gym/best_model.zip\n",
      "mean_reward:2.94 +/- 3.45\n"
     ]
    }
   ],
   "source": [
    "model.learn(total_timesteps=100000, callback=callback)\n",
    "mean_reward, std_reward = evaluate_policy(model, env, n_eval_episodes=100)\n",
    "\n",
    "print(f\"mean_reward:{mean_reward:.2f} +/- {std_reward:.2f}\")"
   ]
  },
  {
   "cell_type": "code",
   "execution_count": 7,
   "id": "5a07324d-156e-4fdf-bb6c-131e352a9b7e",
   "metadata": {},
   "outputs": [],
   "source": [
    "# from pprint import pprint\n",
    "# for i in range(100):\n",
    "#     env = MyActionWrapper(MyObservationWrapper(MyEnv()))\n",
    "#     obs = env.reset()\n",
    "#     prints = []\n",
    "\n",
    "#     for j in range(50):\n",
    "#         action, _ = model.predict(obs)\n",
    "#         obs, reward, done, info = env.step(action)\n",
    "        \n",
    "#         prints.append([action, obs, reward, done])\n",
    "         \n",
    "#         if done:\n",
    "#             if j > 6:\n",
    "#                 pprint(prints)\n",
    "#             break"
   ]
  },
  {
   "cell_type": "code",
   "execution_count": 8,
   "id": "cea50217-6040-477e-9edb-712ab2bfa118",
   "metadata": {},
   "outputs": [
    {
     "name": "stdout",
     "output_type": "stream",
     "text": [
      "mean_reward:3.53 +/- 2.97\n"
     ]
    }
   ],
   "source": [
    "mean_reward, std_reward = evaluate_policy(model, env, n_eval_episodes=1000)\n",
    "print(f\"mean_reward:{mean_reward:.2f} +/- {std_reward:.2f}\")"
   ]
  },
  {
   "cell_type": "code",
   "execution_count": 9,
   "id": "c89ec6a6-84d0-421b-9db9-c8d4461fcd09",
   "metadata": {},
   "outputs": [
    {
     "data": {
      "image/png": "[encoded data removed]",
      "text/plain": [
       "<Figure size 576x144 with 1 Axes>"
      ]
     },
     "metadata": {
      "needs_background": "light"
     },
     "output_type": "display_data"
    }
   ],
   "source": [
    "results_plotter.plot_results([log_dir], 1e5, results_plotter.X_TIMESTEPS, \"Table name\")"
   ]
  },
  {
   "cell_type": "code",
   "execution_count": 10,
   "id": "54cbb7f0-5c0a-495a-8cd9-0e5c7a476143",
   "metadata": {},
   "outputs": [],
   "source": [
    "def moving_average(values, window):\n",
    "    \"\"\"\n",
    "    Smooth values by doing a moving average\n",
    "    :param values: (numpy array)\n",
    "    :param window: (int)\n",
    "    :return: (numpy array)\n",
    "    \"\"\"\n",
    "    weights = np.repeat(1.0, window) / window\n",
    "    return np.convolve(values, weights, 'valid')\n",
    "\n",
    "\n",
    "def plot_results(log_folder, title='Learning Curve'):\n",
    "    \"\"\"\n",
    "    plot the results\n",
    "\n",
    "    :param log_folder: (str) the save location of the results to plot\n",
    "    :param title: (str) the title of the task to plot\n",
    "    \"\"\"\n",
    "    x, y = ts2xy(load_results(log_folder), 'timesteps')\n",
    "    y = moving_average(y, window=100)\n",
    "    # Truncate x\n",
    "    x = x[len(x) - len(y):]\n",
    "\n",
    "    fig = plt.figure(title)\n",
    "    plt.plot(x, y)\n",
    "    plt.xlabel('Number of Timesteps')\n",
    "    plt.ylabel('Rewards')\n",
    "    plt.title(title + \" Smoothed\")\n",
    "    plt.show()"
   ]
  },
  {
   "cell_type": "code",
   "execution_count": 11,
   "id": "1b9e9682-4625-42d8-9775-8140801e1bad",
   "metadata": {},
   "outputs": [
    {
     "data": {
      "image/png": "[encoded data removed]",
      "text/plain": [
       "<Figure size 432x288 with 1 Axes>"
      ]
     },
     "metadata": {
      "needs_background": "light"
     },
     "output_type": "display_data"
    }
   ],
   "source": [
    "plot_results(log_dir)"
   ]
  },
  {
   "cell_type": "code",
   "execution_count": null,
   "id": "ba069f75-32cc-46ed-9976-c46053eff79a",
   "metadata": {},
   "outputs": [],
   "source": []
  },
  {
   "cell_type": "code",
   "execution_count": null,
   "id": "73e84385-d0b0-4314-b6fb-2db2301d97ee",
   "metadata": {},
   "outputs": [],
   "source": []
  },
  {
   "cell_type": "code",
   "execution_count": null,
   "id": "a4912826-0f64-4385-aef0-522ef799b4ce",
   "metadata": {},
   "outputs": [],
   "source": []
  },
  {
   "cell_type": "code",
   "execution_count": null,
   "id": "51bc8c7c-214c-4775-8c7e-87dda0003cee",
   "metadata": {},
   "outputs": [],
   "source": []
  },
  {
   "cell_type": "code",
   "execution_count": null,
   "id": "5bdfcb53-8c1a-4bb2-8ddf-eea0208d6d18",
   "metadata": {},
   "outputs": [],
   "source": []
  },
  {
   "cell_type": "code",
   "execution_count": null,
   "id": "b4d3b611-b89b-40b4-8a3c-966fd4ce0ce8",
   "metadata": {},
   "outputs": [],
   "source": []
  },
  {
   "cell_type": "code",
   "execution_count": null,
   "id": "fe8e1d3c-92a6-473a-999e-99eb4d65def2",
   "metadata": {},
   "outputs": [],
   "source": []
  },
  {
   "cell_type": "code",
   "execution_count": 11,
   "id": "18237f3d-8ae5-425e-b8df-c9cd6b62eeb5",
   "metadata": {},
   "outputs": [
    {
     "data": {
      "text/plain": [
       "array([0, 0, 0, 0, 0, 0, 2, 9, 4, 2, 0, 4])"
      ]
     },
     "execution_count": 11,
     "metadata": {},
     "output_type": "execute_result"
    }
   ],
   "source": [
    "env = MyActionWrapper(MyObservationWrapper(MyEnv()))\n",
    "env.reset()"
   ]
  },
  {
   "cell_type": "code",
   "execution_count": null,
   "id": "ffe6d0a6-3a4f-46d3-bc00-f2f8dd3bc625",
   "metadata": {},
   "outputs": [],
   "source": []
  },
  {
   "cell_type": "code",
   "execution_count": 222,
   "id": "e3d21b6b-88a7-47d9-971c-43e96048439e",
   "metadata": {},
   "outputs": [
    {
     "name": "stdout",
     "output_type": "stream",
     "text": [
      "observation\n"
     ]
    },
    {
     "data": {
      "text/plain": [
       "((array([0, 0, 0, 0, 1, 1, 3, 6, 2, 5, 7, 7]), 1, False, {}), 3)"
      ]
     },
     "execution_count": 222,
     "metadata": {},
     "output_type": "execute_result"
    }
   ],
   "source": [
    "#env.step({\"function\": 2, \"input\": 8}), env.num_steps\n",
    "env.step(np.array([2,4])), env.num_steps"
   ]
  },
  {
   "cell_type": "code",
   "execution_count": 13,
   "id": "d9cf1e78-b7bf-42e2-9386-c70dfbe2a613",
   "metadata": {},
   "outputs": [
    {
     "data": {
      "text/plain": [
       "MultiDiscrete([ 2  2  2  2  2  2 10 10 10 10 10 10])"
      ]
     },
     "execution_count": 13,
     "metadata": {},
     "output_type": "execute_result"
    }
   ],
   "source": [
    "env.observation_space"
   ]
  },
  {
   "cell_type": "code",
   "execution_count": 220,
   "id": "2ab3c562-8d0a-4ebf-bb37-b504ab3b271f",
   "metadata": {},
   "outputs": [
    {
     "data": {
      "text/plain": [
       "MultiDiscrete([ 3 10])"
      ]
     },
     "execution_count": 220,
     "metadata": {},
     "output_type": "execute_result"
    }
   ],
   "source": [
    "env.action_space"
   ]
  },
  {
   "cell_type": "code",
   "execution_count": 221,
   "id": "e9c2f76a-4028-474c-90b3-47b74dc9f0ea",
   "metadata": {},
   "outputs": [
    {
     "name": "stdout",
     "output_type": "stream",
     "text": [
      "reverse_observation\n"
     ]
    },
    {
     "ename": "TypeError",
     "evalue": "unhashable type: 'slice'",
     "output_type": "error",
     "traceback": [
      "\u001b[0;31m---------------------------------------------------------------------------\u001b[0m",
      "\u001b[0;31mTypeError\u001b[0m                                 Traceback (most recent call last)",
      "Input \u001b[0;32mIn [221]\u001b[0m, in \u001b[0;36m<cell line: 1>\u001b[0;34m()\u001b[0m\n\u001b[0;32m----> 1\u001b[0m \u001b[43menv\u001b[49m\u001b[38;5;241;43m.\u001b[39;49m\u001b[43mreverse_observation\u001b[49m\u001b[43m(\u001b[49m\u001b[43m{\u001b[49m\n\u001b[1;32m      2\u001b[0m \u001b[43m    \u001b[49m\u001b[38;5;124;43m'\u001b[39;49m\u001b[38;5;124;43mpoints\u001b[39;49m\u001b[38;5;124;43m'\u001b[39;49m\u001b[43m:\u001b[49m\u001b[43m \u001b[49m\u001b[43mnp\u001b[49m\u001b[38;5;241;43m.\u001b[39;49m\u001b[43marray\u001b[49m\u001b[43m(\u001b[49m\u001b[43m[\u001b[49m\u001b[38;5;241;43m0\u001b[39;49m\u001b[43m,\u001b[49m\u001b[43m \u001b[49m\u001b[38;5;241;43m0\u001b[39;49m\u001b[43m,\u001b[49m\u001b[43m \u001b[49m\u001b[38;5;241;43m0\u001b[39;49m\u001b[43m,\u001b[49m\u001b[43m \u001b[49m\u001b[38;5;241;43m0\u001b[39;49m\u001b[43m,\u001b[49m\u001b[43m \u001b[49m\u001b[38;5;241;43m0\u001b[39;49m\u001b[43m,\u001b[49m\u001b[43m \u001b[49m\u001b[38;5;241;43m0\u001b[39;49m\u001b[43m]\u001b[49m\u001b[43m,\u001b[49m\u001b[43m \u001b[49m\u001b[43mdtype\u001b[49m\u001b[38;5;241;43m=\u001b[39;49m\u001b[43mnp\u001b[49m\u001b[38;5;241;43m.\u001b[39;49m\u001b[43mint8\u001b[49m\u001b[43m)\u001b[49m\u001b[43m,\u001b[49m\n\u001b[1;32m      3\u001b[0m \u001b[43m    \u001b[49m\u001b[38;5;124;43m'\u001b[39;49m\u001b[38;5;124;43mfeatures\u001b[39;49m\u001b[38;5;124;43m'\u001b[39;49m\u001b[43m:\u001b[49m\u001b[43m \u001b[49m\u001b[43mnp\u001b[49m\u001b[38;5;241;43m.\u001b[39;49m\u001b[43marray\u001b[49m\u001b[43m(\u001b[49m\u001b[43m[\u001b[49m\u001b[38;5;241;43m3\u001b[39;49m\u001b[43m,\u001b[49m\u001b[43m \u001b[49m\u001b[38;5;241;43m6\u001b[39;49m\u001b[43m,\u001b[49m\u001b[43m \u001b[49m\u001b[38;5;241;43m2\u001b[39;49m\u001b[43m,\u001b[49m\u001b[43m \u001b[49m\u001b[38;5;241;43m5\u001b[39;49m\u001b[43m,\u001b[49m\u001b[43m \u001b[49m\u001b[38;5;241;43m7\u001b[39;49m\u001b[43m,\u001b[49m\u001b[43m \u001b[49m\u001b[38;5;241;43m7\u001b[39;49m\u001b[43m]\u001b[49m\u001b[43m)\u001b[49m\n\u001b[1;32m      4\u001b[0m \u001b[43m}\u001b[49m\u001b[43m)\u001b[49m\n",
      "Input \u001b[0;32mIn [211]\u001b[0m, in \u001b[0;36mMyObservationWrapper.reverse_observation\u001b[0;34m(self, observation)\u001b[0m\n\u001b[1;32m     15\u001b[0m \u001b[38;5;28;01mdef\u001b[39;00m \u001b[38;5;21mreverse_observation\u001b[39m(\u001b[38;5;28mself\u001b[39m, observation):\n\u001b[1;32m     16\u001b[0m     \u001b[38;5;28mprint\u001b[39m(\u001b[38;5;124m\"\u001b[39m\u001b[38;5;124mreverse_observation\u001b[39m\u001b[38;5;124m\"\u001b[39m)\n\u001b[1;32m     17\u001b[0m     \u001b[38;5;28;01mreturn\u001b[39;00m {\n\u001b[0;32m---> 18\u001b[0m         \u001b[38;5;124m\"\u001b[39m\u001b[38;5;124mpoints\u001b[39m\u001b[38;5;124m\"\u001b[39m: \u001b[43mobservation\u001b[49m\u001b[43m[\u001b[49m\u001b[43m:\u001b[49m\u001b[38;5;241;43m7\u001b[39;49m\u001b[43m]\u001b[49m,\n\u001b[1;32m     19\u001b[0m         \u001b[38;5;124m\"\u001b[39m\u001b[38;5;124mfeatures\u001b[39m\u001b[38;5;124m\"\u001b[39m: observation[\u001b[38;5;241m7\u001b[39m:]\n\u001b[1;32m     20\u001b[0m     }\n",
      "\u001b[0;31mTypeError\u001b[0m: unhashable type: 'slice'"
     ]
    }
   ],
   "source": [
    "env.reverse_observation({\n",
    "    'points': np.array([0, 0, 0, 0, 0, 0], dtype=np.int8),\n",
    "    'features': np.array([3, 6, 2, 5, 7, 7])\n",
    "})"
   ]
  },
  {
   "cell_type": "code",
   "execution_count": 38,
   "id": "fc851b53-5e13-488f-9ecb-977be04facd3",
   "metadata": {},
   "outputs": [
    {
     "data": {
      "text/plain": [
       "[7, 3, 8, 9, 9, 4]"
      ]
     },
     "execution_count": 38,
     "metadata": {},
     "output_type": "execute_result"
    }
   ],
   "source": [
    "spaces.MultiDiscrete([10 for _ in range(6)]).sample().tolist()"
   ]
  },
  {
   "cell_type": "code",
   "execution_count": 10,
   "id": "07ff7503-17bf-4e7a-9ae9-31e4fba7a271",
   "metadata": {},
   "outputs": [
    {
     "data": {
      "text/plain": [
       "array([1, 0, 1, 1, 0, 1], dtype=int8)"
      ]
     },
     "execution_count": 10,
     "metadata": {},
     "output_type": "execute_result"
    }
   ],
   "source": [
    "spaces.MultiBinary(6).sample()"
   ]
  },
  {
   "cell_type": "code",
   "execution_count": 19,
   "id": "dc45d887-4dec-45eb-9b53-41ffdfda8f8b",
   "metadata": {},
   "outputs": [
    {
     "name": "stdout",
     "output_type": "stream",
     "text": [
      "function Discrete(3)\n",
      "input Discrete(10)\n"
     ]
    }
   ],
   "source": [
    "e = MyEnv()\n",
    "for k, v in e.action_space.items():\n",
    "    print(k, v)"
   ]
  },
  {
   "cell_type": "code",
   "execution_count": 18,
   "id": "613d48b7-0236-48c0-bb01-c9399ff92f99",
   "metadata": {},
   "outputs": [
    {
     "data": {
      "text/plain": [
       "['__class__',\n",
       " '__contains__',\n",
       " '__delattr__',\n",
       " '__dict__',\n",
       " '__dir__',\n",
       " '__doc__',\n",
       " '__eq__',\n",
       " '__format__',\n",
       " '__ge__',\n",
       " '__getattribute__',\n",
       " '__getitem__',\n",
       " '__gt__',\n",
       " '__hash__',\n",
       " '__init__',\n",
       " '__init_subclass__',\n",
       " '__iter__',\n",
       " '__le__',\n",
       " '__len__',\n",
       " '__lt__',\n",
       " '__module__',\n",
       " '__ne__',\n",
       " '__new__',\n",
       " '__reduce__',\n",
       " '__reduce_ex__',\n",
       " '__repr__',\n",
       " '__setattr__',\n",
       " '__setitem__',\n",
       " '__setstate__',\n",
       " '__sizeof__',\n",
       " '__str__',\n",
       " '__subclasshook__',\n",
       " '__weakref__',\n",
       " '_np_random',\n",
       " '_shape',\n",
       " 'contains',\n",
       " 'dtype',\n",
       " 'from_jsonable',\n",
       " 'items',\n",
       " 'keys',\n",
       " 'np_random',\n",
       " 'sample',\n",
       " 'seed',\n",
       " 'shape',\n",
       " 'spaces',\n",
       " 'to_jsonable',\n",
       " 'values']"
      ]
     },
     "execution_count": 18,
     "metadata": {},
     "output_type": "execute_result"
    }
   ],
   "source": [
    "dir(e.action_space)"
   ]
  },
  {
   "cell_type": "code",
   "execution_count": 23,
   "id": "017fb038-fb31-4b22-beb5-509f2768ae30",
   "metadata": {},
   "outputs": [
    {
     "data": {
      "text/plain": [
       "array([[1, 0],\n",
       "       [8, 6]])"
      ]
     },
     "execution_count": 23,
     "metadata": {},
     "output_type": "execute_result"
    }
   ],
   "source": [
    "spaces.MultiDiscrete([[2,2], [10,10]]).sample()"
   ]
  },
  {
   "cell_type": "code",
   "execution_count": 15,
   "id": "ad3f108f-5b9d-4e78-944f-9a9e8d7ebe68",
   "metadata": {},
   "outputs": [
    {
     "data": {
      "text/plain": [
       "True"
      ]
     },
     "execution_count": 15,
     "metadata": {},
     "output_type": "execute_result"
    }
   ],
   "source": [
    "isinstance(\"abc\", str)"
   ]
  },
  {
   "cell_type": "code",
   "execution_count": 16,
   "id": "c23fb72f-b890-4694-8f03-94a56891b6e0",
   "metadata": {},
   "outputs": [
    {
     "data": {
      "text/plain": [
       "['a', 'b', 'c']"
      ]
     },
     "execution_count": 16,
     "metadata": {},
     "output_type": "execute_result"
    }
   ],
   "source": [
    "list(\"abc\")"
   ]
  },
  {
   "cell_type": "code",
   "execution_count": 19,
   "id": "77e5a42f-779a-48c6-9e45-0166ba02ea4d",
   "metadata": {},
   "outputs": [
    {
     "data": {
      "text/plain": [
       "0"
      ]
     },
     "execution_count": 19,
     "metadata": {},
     "output_type": "execute_result"
    }
   ],
   "source": [
    "len(\"\")"
   ]
  },
  {
   "cell_type": "code",
   "execution_count": 23,
   "id": "2dd09606-91f9-46ed-b6c7-2e1265ffaf2d",
   "metadata": {},
   "outputs": [
    {
     "data": {
      "text/plain": [
       "['']"
      ]
     },
     "execution_count": 23,
     "metadata": {},
     "output_type": "execute_result"
    }
   ],
   "source": [
    "\"\".split(\",\")"
   ]
  },
  {
   "cell_type": "code",
   "execution_count": 29,
   "id": "084eca07-82ca-4c9d-90f4-bbda6ff78c64",
   "metadata": {},
   "outputs": [
    {
     "data": {
      "text/plain": [
       "False"
      ]
     },
     "execution_count": 29,
     "metadata": {},
     "output_type": "execute_result"
    }
   ],
   "source": [
    "from datetime import datetime \n",
    "d = datetime(2012,4,1,0,0)\n",
    "isinstance(d, list)"
   ]
  },
  {
   "cell_type": "code",
   "execution_count": null,
   "id": "05ed35cf-da96-40b4-8a12-27cc5485041f",
   "metadata": {},
   "outputs": [],
   "source": [
    "d.timestamp()"
   ]
  }
 ],
 "metadata": {
  "kernelspec": {
   "display_name": "Python 3 (ipykernel)",
   "language": "python",
   "name": "python3"
  },
  "language_info": {
   "codemirror_mode": {
    "name": "ipython",
    "version": 3
   },
   "file_extension": ".py",
   "mimetype": "text/x-python",
   "name": "python",
   "nbconvert_exporter": "python",
   "pygments_lexer": "ipython3",
   "version": "3.9.15"
  }
 },
 "nbformat": 4,
 "nbformat_minor": 5
}
